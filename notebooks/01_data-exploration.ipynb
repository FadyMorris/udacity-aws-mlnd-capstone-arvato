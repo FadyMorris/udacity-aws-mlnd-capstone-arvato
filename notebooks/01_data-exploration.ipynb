{
 "cells": [
  {
   "cell_type": "markdown",
   "id": "d4a78be0",
   "metadata": {},
   "source": [
    "# Capstone Project: <br/> Arvato Customer Acquisition Prediction Using Supervised Learning <br/><br/> Part 1: Data Exploration and Cleaning"
   ]
  },
  {
   "cell_type": "markdown",
   "id": "1e00ba87",
   "metadata": {},
   "source": [
    "In this project, we will analyze demographics data for customers of a mail-order sales company in Germany,We will use a supervised learning model to predict which individuals are most likely to convert into becoming customers for the company. The data that we will use has been provided by Udacity partners at Bertelsmann Arvato Analytics, and represents a real-life data science task."
   ]
  },
  {
   "cell_type": "markdown",
   "id": "e90bc382",
   "metadata": {
    "toc": true
   },
   "source": [
    "<h1>Table of Contents<span class=\"tocSkip\"></span></h1>\n",
    "<div class=\"toc\"><ul class=\"toc-item\"><li><span><a href=\"#Run-Common-Code-Notebook\" data-toc-modified-id=\"Run-Common-Code-Notebook-1\"><span class=\"toc-item-num\">1&nbsp;&nbsp;</span>Run Common Code Notebook</a></span></li><li><span><a href=\"#Get-to-Know-the-Data\" data-toc-modified-id=\"Get-to-Know-the-Data-2\"><span class=\"toc-item-num\">2&nbsp;&nbsp;</span>Get to Know the Data</a></span></li><li><span><a href=\"#Load-Raw-Data\" data-toc-modified-id=\"Load-Raw-Data-3\"><span class=\"toc-item-num\">3&nbsp;&nbsp;</span>Load Raw Data</a></span></li><li><span><a href=\"#Exploration-of-the-Metadata-File\" data-toc-modified-id=\"Exploration-of-the-Metadata-File-4\"><span class=\"toc-item-num\">4&nbsp;&nbsp;</span>Exploration of the Metadata File</a></span><ul class=\"toc-item\"><li><span><a href=\"#Fix-multiple-description-line-for-each-value\" data-toc-modified-id=\"Fix-multiple-description-line-for-each-value-4.1\"><span class=\"toc-item-num\">4.1&nbsp;&nbsp;</span>Fix multiple description line for each value</a></span></li><li><span><a href=\"#Fill-missing-values\" data-toc-modified-id=\"Fill-missing-values-4.2\"><span class=\"toc-item-num\">4.2&nbsp;&nbsp;</span>Fill missing values</a></span></li><li><span><a href=\"#Explor-non-numeric-values-and-their-frequency-counts\" data-toc-modified-id=\"Explor-non-numeric-values-and-their-frequency-counts-4.3\"><span class=\"toc-item-num\">4.3&nbsp;&nbsp;</span>Explor non-numeric values and their frequency counts</a></span></li><li><span><a href=\"#Split-columns-that-contain-multiple-values-for-unknown\" data-toc-modified-id=\"Split-columns-that-contain-multiple-values-for-unknown-4.4\"><span class=\"toc-item-num\">4.4&nbsp;&nbsp;</span>Split columns that contain multiple values for unknown</a></span></li><li><span><a href=\"#Flag-numeric-and-categorical-values\" data-toc-modified-id=\"Flag-numeric-and-categorical-values-4.5\"><span class=\"toc-item-num\">4.5&nbsp;&nbsp;</span>Flag numeric and categorical values</a></span></li><li><span><a href=\"#Find-Other-Classes-that-Represent-Unknown-and-Set-Their-Meaning-to-unknown\" data-toc-modified-id=\"Find-Other-Classes-that-Represent-Unknown-and-Set-Their-Meaning-to-unknown-4.6\"><span class=\"toc-item-num\">4.6&nbsp;&nbsp;</span>Find Other Classes that Represent Unknown and Set Their Meaning to <code>unknown</code></a></span><ul class=\"toc-item\"><li><span><a href=\"#Manually-Fix-Data-for-unknown-values\" data-toc-modified-id=\"Manually-Fix-Data-for-unknown-values-4.6.1\"><span class=\"toc-item-num\">4.6.1&nbsp;&nbsp;</span>Manually Fix Data for <code>unknown</code> values</a></span></li></ul></li><li><span><a href=\"#Print-the-frequency-of-using-the-values--1,-9,-0,-10-as-unknown-values:\" data-toc-modified-id=\"Print-the-frequency-of-using-the-values--1,-9,-0,-10-as-unknown-values:-4.7\"><span class=\"toc-item-num\">4.7&nbsp;&nbsp;</span>Print the frequency of using the values -1, 9, 0, 10 as unknown values:</a></span></li><li><span><a href=\"#Save-the-Clean-Metadata\" data-toc-modified-id=\"Save-the-Clean-Metadata-4.8\"><span class=\"toc-item-num\">4.8&nbsp;&nbsp;</span>Save the Clean Metadata</a></span></li></ul></li><li><span><a href=\"#Exploration-of-training-data\" data-toc-modified-id=\"Exploration-of-training-data-5\"><span class=\"toc-item-num\">5&nbsp;&nbsp;</span>Exploration of training data</a></span><ul class=\"toc-item\"><li><span><a href=\"#Metadata-Variables\" data-toc-modified-id=\"Metadata-Variables-5.1\"><span class=\"toc-item-num\">5.1&nbsp;&nbsp;</span>Metadata Variables</a></span></li><li><span><a href=\"#General-Stats-about-Features-and-Label\" data-toc-modified-id=\"General-Stats-about-Features-and-Label-5.2\"><span class=\"toc-item-num\">5.2&nbsp;&nbsp;</span>General Stats about Features and Label</a></span></li><li><span><a href=\"#Fix-columns-that-have-mixed-types\" data-toc-modified-id=\"Fix-columns-that-have-mixed-types-5.3\"><span class=\"toc-item-num\">5.3&nbsp;&nbsp;</span>Fix columns that have mixed types</a></span></li><li><span><a href=\"#Check-the-cardinality-of-the-categorical-featurs-(high-and-low-cardinality)\" data-toc-modified-id=\"Check-the-cardinality-of-the-categorical-featurs-(high-and-low-cardinality)-5.4\"><span class=\"toc-item-num\">5.4&nbsp;&nbsp;</span>Check the cardinality of the categorical featurs (high and low cardinality)</a></span></li><li><span><a href=\"#Check-Dataset-Columns-that-Don't-Exist-in-Metadata-and-Vice-Versa\" data-toc-modified-id=\"Check-Dataset-Columns-that-Don't-Exist-in-Metadata-and-Vice-Versa-5.5\"><span class=\"toc-item-num\">5.5&nbsp;&nbsp;</span>Check Dataset Columns that Don't Exist in Metadata and Vice Versa</a></span></li><li><span><a href=\"#Check-Categorical-Columns-in-the-Dataset-against-Metadata-Valid-Ranges\" data-toc-modified-id=\"Check-Categorical-Columns-in-the-Dataset-against-Metadata-Valid-Ranges-5.6\"><span class=\"toc-item-num\">5.6&nbsp;&nbsp;</span>Check Categorical Columns in the Dataset against Metadata Valid Ranges</a></span></li><li><span><a href=\"#Explore-Features-That-Have-a-High-Percentage-of-Missing-Values-(>30%-missing)\" data-toc-modified-id=\"Explore-Features-That-Have-a-High-Percentage-of-Missing-Values-(>30%-missing)-5.7\"><span class=\"toc-item-num\">5.7&nbsp;&nbsp;</span>Explore Features That Have a High Percentage of Missing Values (&gt;30% missing)</a></span></li><li><span><a href=\"#Explore-highly-correlated-features\" data-toc-modified-id=\"Explore-highly-correlated-features-5.8\"><span class=\"toc-item-num\">5.8&nbsp;&nbsp;</span>Explore highly correlated features</a></span></li><li><span><a href=\"#Find-and-Drop-Duplicated-Rows\" data-toc-modified-id=\"Find-and-Drop-Duplicated-Rows-5.9\"><span class=\"toc-item-num\">5.9&nbsp;&nbsp;</span>Find and Drop Duplicated Rows</a></span></li><li><span><a href=\"#Find-and-Remove-outliers\" data-toc-modified-id=\"Find-and-Remove-outliers-5.10\"><span class=\"toc-item-num\">5.10&nbsp;&nbsp;</span>Find and Remove outliers</a></span></li></ul></li><li><span><a href=\"#Summary-of-Dataset-Feature-Types\" data-toc-modified-id=\"Summary-of-Dataset-Feature-Types-6\"><span class=\"toc-item-num\">6&nbsp;&nbsp;</span>Summary of Dataset Feature Types</a></span></li><li><span><a href=\"#Putting-all-Preprocessing-Steps-Together\" data-toc-modified-id=\"Putting-all-Preprocessing-Steps-Together-7\"><span class=\"toc-item-num\">7&nbsp;&nbsp;</span>Putting all Preprocessing Steps Together</a></span></li></ul></div>"
   ]
  },
  {
   "cell_type": "markdown",
   "id": "4498085e",
   "metadata": {},
   "source": [
    "## Run Common Code Notebook"
   ]
  },
  {
   "cell_type": "code",
   "execution_count": 1,
   "id": "e85dcee4",
   "metadata": {},
   "outputs": [
    {
     "name": "stdout",
     "output_type": "stream",
     "text": [
      "Overwriting ../src/helper_functions.py\n"
     ]
    }
   ],
   "source": [
    "%run 00_common.ipynb"
   ]
  },
  {
   "cell_type": "code",
   "execution_count": 2,
   "id": "757db101",
   "metadata": {},
   "outputs": [],
   "source": [
    "from helper_functions import *"
   ]
  },
  {
   "cell_type": "code",
   "execution_count": 3,
   "id": "45ecc0f8",
   "metadata": {},
   "outputs": [],
   "source": [
    "%matplotlib inline"
   ]
  },
  {
   "cell_type": "markdown",
   "id": "c1857792",
   "metadata": {},
   "source": [
    "## Get to Know the Data\n",
    "\n",
    "There are two data files associated with this project:\n",
    "\n",
    "- `Udacity_MAILOUT_052018_TRAIN.csv`: Demographics data for individuals who were targets of a marketing campaign; 42 982 persons (rows) x 367 (columns).\n",
    "- `Udacity_MAILOUT_052018_TEST.csv`: Demographics data for individuals who were targets of a marketing campaign; 42 833 persons (rows) x 366 (columns).\n",
    "\n",
    "Each row of the demographics files represents a single person, but also includes information outside of individuals, including information about their household, building, and neighborhood.Use your analysis to make predictions on the two files (`\"MAILOUT\"`), predicting which recipients are most likely to become a customer for the mail-order company.\n",
    "\n",
    "The original `\"MAILOUT\"` file included one additional column, `\"RESPONSE\"`, which indicated whether or not each recipient became a customer of the company. For the `\"_TRAIN\"` subset, this column has been retained, but in the `\"_TEST\"` subset it has been removed; it is against that withheld column that your final predictions will be assessed in the Kaggle competition.\n",
    "\n",
    "Otherwise, all of the remaining columns are the same between the three data files. For more information about the columns depicted in the files, you can refer to two Excel spreadsheets provided in the workspace: \n",
    "\n",
    "- `DIAS Information Levels - Attributes 2017.xlsx`: is a top-level list of attributes and descriptions, organized by informational category. \n",
    "\n",
    "- `DIAS Attributes - Values 2017.xlsx`: is a detailed mapping of data values for each feature in alphabetical order.\n",
    "\n",
    "In the below cell, we've provided some initial code to load in the first two datasets. Note for all of the `.csv` data files in this project that they're semicolon (`;`) delimited, so an additional argument in the [`read_csv()`](https://pandas.pydata.org/pandas-docs/stable/generated/pandas.read_csv.html) call has been included to read in the data properly. \n",
    "\n",
    "Also, considering the size of the datasets, it may take some time for them to load completely.\n",
    "\n",
    "You'll notice when the data is loaded in that a warning message will immediately pop up. Before you really start digging into the modeling and analysis, you're going to need to perform some cleaning. Take some time to browse the structure of the data and look over the informational spreadsheets to understand the data values. Make some decisions on which features to keep, which features to drop, and if any revisions need to be made on data formats. It'll be a good idea to create a function with pre-processing steps, since you'll need to clean all of the datasets before you work with them."
   ]
  },
  {
   "cell_type": "markdown",
   "id": "ee4554af",
   "metadata": {},
   "source": [
    "## Load Raw Data"
   ]
  },
  {
   "cell_type": "code",
   "execution_count": 4,
   "id": "0b1ea96f",
   "metadata": {},
   "outputs": [],
   "source": [
    "# Load the raw metadata file\n",
    "metadata_df = pd.read_excel(\n",
    "    os.path.join(dir_data_raw, 'DIAS Attributes - Values 2017.xlsx'),\n",
    "    header=1,\n",
    "    usecols=\"B:E\")"
   ]
  },
  {
   "cell_type": "code",
   "execution_count": 4,
   "id": "2cdf0ded",
   "metadata": {},
   "outputs": [
    {
     "name": "stderr",
     "output_type": "stream",
     "text": [
      "/tmp/ipykernel_227805/287956584.py:4: DtypeWarning: Columns (18,19) have mixed types. Specify dtype option on import or set low_memory=False.\n",
      "  mailout_train = pd.read_csv(tar.extractfile('Udacity_MAILOUT_052018_TRAIN.csv'), sep=\";\")\n"
     ]
    }
   ],
   "source": [
    "# Load the training dataset, from a compressed archive\n",
    "data_archive = os.path.join(dir_data_raw, \"Udacity_MAILOUT_052018_TRAIN.tar.xz\")\n",
    "with tarfile.open(data_archive, \"r:*\") as tar:\n",
    "    mailout_train = pd.read_csv(tar.extractfile('Udacity_MAILOUT_052018_TRAIN.csv'), sep=\";\")"
   ]
  },
  {
   "cell_type": "markdown",
   "id": "e7eb1485",
   "metadata": {},
   "source": [
    "## Exploration of the Metadata File"
   ]
  },
  {
   "cell_type": "code",
   "execution_count": 6,
   "id": "218862de",
   "metadata": {},
   "outputs": [],
   "source": [
    "# Convert all column names to lowercase\n",
    "metadata_df.columns = metadata_df.columns.map(lambda x: x.lower()) "
   ]
  },
  {
   "cell_type": "code",
   "execution_count": 7,
   "id": "6c2404f1",
   "metadata": {
    "scrolled": false
   },
   "outputs": [
    {
     "data": {
      "text/plain": [
       "314"
      ]
     },
     "execution_count": 7,
     "metadata": {},
     "output_type": "execute_result"
    }
   ],
   "source": [
    "# Count of features that have metadata entries.\n",
    "metadata_df.attribute.nunique()"
   ]
  },
  {
   "cell_type": "markdown",
   "id": "8cbce392",
   "metadata": {},
   "source": [
    "### Fix multiple description line for each value"
   ]
  },
  {
   "cell_type": "code",
   "execution_count": 8,
   "id": "b1452134",
   "metadata": {},
   "outputs": [
    {
     "data": {
      "text/html": [
       "<div>\n",
       "<style scoped>\n",
       "    .dataframe tbody tr th:only-of-type {\n",
       "        vertical-align: middle;\n",
       "    }\n",
       "\n",
       "    .dataframe tbody tr th {\n",
       "        vertical-align: top;\n",
       "    }\n",
       "\n",
       "    .dataframe thead th {\n",
       "        text-align: right;\n",
       "    }\n",
       "</style>\n",
       "<table border=\"1\" class=\"dataframe\">\n",
       "  <thead>\n",
       "    <tr style=\"text-align: right;\">\n",
       "      <th></th>\n",
       "      <th>description</th>\n",
       "    </tr>\n",
       "  </thead>\n",
       "  <tbody>\n",
       "    <tr>\n",
       "      <th>- on grid level -</th>\n",
       "      <td>34</td>\n",
       "    </tr>\n",
       "    <tr>\n",
       "      <th>share of upper middle class cars and upper class cars (BMW5er, BMW7er etc.)</th>\n",
       "      <td>2</td>\n",
       "    </tr>\n",
       "    <tr>\n",
       "      <th>share of other cars within the PLZ8</th>\n",
       "      <td>2</td>\n",
       "    </tr>\n",
       "    <tr>\n",
       "      <th>share of cars with max speed between 210 and 250 km/h within the PLZ8</th>\n",
       "      <td>1</td>\n",
       "    </tr>\n",
       "    <tr>\n",
       "      <th>share of cars with a greater max speed than 210 km/h within the PLZ8</th>\n",
       "      <td>1</td>\n",
       "    </tr>\n",
       "    <tr>\n",
       "      <th>...</th>\n",
       "      <td>...</td>\n",
       "    </tr>\n",
       "    <tr>\n",
       "      <th>share of cars per household</th>\n",
       "      <td>1</td>\n",
       "    </tr>\n",
       "    <tr>\n",
       "      <th>number of &gt;10 family houses in the cell</th>\n",
       "      <td>1</td>\n",
       "    </tr>\n",
       "    <tr>\n",
       "      <th>number of 6-10 family houses in the cell</th>\n",
       "      <td>1</td>\n",
       "    </tr>\n",
       "    <tr>\n",
       "      <th>number of 3-5 family houses in the cell</th>\n",
       "      <td>1</td>\n",
       "    </tr>\n",
       "    <tr>\n",
       "      <th>typification of energy consumers</th>\n",
       "      <td>1</td>\n",
       "    </tr>\n",
       "  </tbody>\n",
       "</table>\n",
       "<p>316 rows × 1 columns</p>\n",
       "</div>"
      ],
      "text/plain": [
       "                                                    description\n",
       " - on grid level -                                           34\n",
       "share of upper middle class cars and upper clas...            2\n",
       "share of other cars within the PLZ8                           2\n",
       "share of cars with max speed between 210 and 25...            1\n",
       "share of cars with a greater max speed than 210...            1\n",
       "...                                                         ...\n",
       "share of cars per household                                   1\n",
       "number of >10 family houses in the cell                       1\n",
       "number of 6-10 family houses in the cell                      1\n",
       "number of 3-5 family houses in the cell                       1\n",
       "typification of energy consumers                              1\n",
       "\n",
       "[316 rows x 1 columns]"
      ]
     },
     "execution_count": 8,
     "metadata": {},
     "output_type": "execute_result"
    }
   ],
   "source": [
    "metadata_df.description.value_counts().to_frame()"
   ]
  },
  {
   "cell_type": "code",
   "execution_count": 9,
   "id": "5824f25f",
   "metadata": {},
   "outputs": [],
   "source": [
    "# Remove all description values that contain ' - on grid level -'\n",
    "# metadata_df.description.where(metadata_df.description != ' - on grid level -', inplace=True)"
   ]
  },
  {
   "cell_type": "code",
   "execution_count": 10,
   "id": "ffaf7405",
   "metadata": {},
   "outputs": [],
   "source": [
    "description_second_line = metadata_df.query(\"attribute.isnull() and not description.isnull()\", engine='python')"
   ]
  },
  {
   "cell_type": "code",
   "execution_count": 11,
   "id": "b439b20e",
   "metadata": {},
   "outputs": [],
   "source": [
    "# Remove second line description\n",
    "metadata_df.loc[description_second_line.index, 'description'] = np.nan"
   ]
  },
  {
   "cell_type": "markdown",
   "id": "af9b792a",
   "metadata": {},
   "source": [
    "### Fill missing values"
   ]
  },
  {
   "cell_type": "code",
   "execution_count": 12,
   "id": "5740dfa6",
   "metadata": {},
   "outputs": [],
   "source": [
    "# Fill missing values\n",
    "metadata_df.ffill(inplace=True)"
   ]
  },
  {
   "cell_type": "markdown",
   "id": "9d0e14d8",
   "metadata": {},
   "source": [
    "### Explor non-numeric values and their frequency counts"
   ]
  },
  {
   "cell_type": "code",
   "execution_count": 13,
   "id": "a744842d",
   "metadata": {},
   "outputs": [
    {
     "data": {
      "text/html": [
       "<div>\n",
       "<style scoped>\n",
       "    .dataframe tbody tr th:only-of-type {\n",
       "        vertical-align: middle;\n",
       "    }\n",
       "\n",
       "    .dataframe tbody tr th {\n",
       "        vertical-align: top;\n",
       "    }\n",
       "\n",
       "    .dataframe thead th {\n",
       "        text-align: right;\n",
       "    }\n",
       "</style>\n",
       "<table border=\"1\" class=\"dataframe\">\n",
       "  <thead>\n",
       "    <tr style=\"text-align: right;\">\n",
       "      <th></th>\n",
       "      <th>value</th>\n",
       "    </tr>\n",
       "  </thead>\n",
       "  <tbody>\n",
       "    <tr>\n",
       "      <th>-1</th>\n",
       "      <td>138</td>\n",
       "    </tr>\n",
       "    <tr>\n",
       "      <th>-1, 9</th>\n",
       "      <td>75</td>\n",
       "    </tr>\n",
       "    <tr>\n",
       "      <th>-1, 0</th>\n",
       "      <td>16</td>\n",
       "    </tr>\n",
       "    <tr>\n",
       "      <th>…</th>\n",
       "      <td>7</td>\n",
       "    </tr>\n",
       "    <tr>\n",
       "      <th>O</th>\n",
       "      <td>1</td>\n",
       "    </tr>\n",
       "    <tr>\n",
       "      <th>7E</th>\n",
       "      <td>1</td>\n",
       "    </tr>\n",
       "    <tr>\n",
       "      <th>6B</th>\n",
       "      <td>1</td>\n",
       "    </tr>\n",
       "    <tr>\n",
       "      <th>6C</th>\n",
       "      <td>1</td>\n",
       "    </tr>\n",
       "    <tr>\n",
       "      <th>6D</th>\n",
       "      <td>1</td>\n",
       "    </tr>\n",
       "    <tr>\n",
       "      <th>6E</th>\n",
       "      <td>1</td>\n",
       "    </tr>\n",
       "    <tr>\n",
       "      <th>6F</th>\n",
       "      <td>1</td>\n",
       "    </tr>\n",
       "    <tr>\n",
       "      <th>7A</th>\n",
       "      <td>1</td>\n",
       "    </tr>\n",
       "    <tr>\n",
       "      <th>7B</th>\n",
       "      <td>1</td>\n",
       "    </tr>\n",
       "    <tr>\n",
       "      <th>7C</th>\n",
       "      <td>1</td>\n",
       "    </tr>\n",
       "    <tr>\n",
       "      <th>7D</th>\n",
       "      <td>1</td>\n",
       "    </tr>\n",
       "    <tr>\n",
       "      <th>8A</th>\n",
       "      <td>1</td>\n",
       "    </tr>\n",
       "    <tr>\n",
       "      <th>-1</th>\n",
       "      <td>1</td>\n",
       "    </tr>\n",
       "    <tr>\n",
       "      <th>6A</th>\n",
       "      <td>1</td>\n",
       "    </tr>\n",
       "    <tr>\n",
       "      <th>8C</th>\n",
       "      <td>1</td>\n",
       "    </tr>\n",
       "    <tr>\n",
       "      <th>8D</th>\n",
       "      <td>1</td>\n",
       "    </tr>\n",
       "    <tr>\n",
       "      <th>9A</th>\n",
       "      <td>1</td>\n",
       "    </tr>\n",
       "    <tr>\n",
       "      <th>9B</th>\n",
       "      <td>1</td>\n",
       "    </tr>\n",
       "    <tr>\n",
       "      <th>9C</th>\n",
       "      <td>1</td>\n",
       "    </tr>\n",
       "    <tr>\n",
       "      <th>9D</th>\n",
       "      <td>1</td>\n",
       "    </tr>\n",
       "    <tr>\n",
       "      <th>9E</th>\n",
       "      <td>1</td>\n",
       "    </tr>\n",
       "    <tr>\n",
       "      <th>8B</th>\n",
       "      <td>1</td>\n",
       "    </tr>\n",
       "    <tr>\n",
       "      <th>5E</th>\n",
       "      <td>1</td>\n",
       "    </tr>\n",
       "    <tr>\n",
       "      <th>5F</th>\n",
       "      <td>1</td>\n",
       "    </tr>\n",
       "    <tr>\n",
       "      <th>5D</th>\n",
       "      <td>1</td>\n",
       "    </tr>\n",
       "    <tr>\n",
       "      <th>1A</th>\n",
       "      <td>1</td>\n",
       "    </tr>\n",
       "    <tr>\n",
       "      <th>1B</th>\n",
       "      <td>1</td>\n",
       "    </tr>\n",
       "    <tr>\n",
       "      <th>1C</th>\n",
       "      <td>1</td>\n",
       "    </tr>\n",
       "    <tr>\n",
       "      <th>1D</th>\n",
       "      <td>1</td>\n",
       "    </tr>\n",
       "    <tr>\n",
       "      <th>1E</th>\n",
       "      <td>1</td>\n",
       "    </tr>\n",
       "    <tr>\n",
       "      <th>2A</th>\n",
       "      <td>1</td>\n",
       "    </tr>\n",
       "    <tr>\n",
       "      <th>2B</th>\n",
       "      <td>1</td>\n",
       "    </tr>\n",
       "    <tr>\n",
       "      <th>2C</th>\n",
       "      <td>1</td>\n",
       "    </tr>\n",
       "    <tr>\n",
       "      <th>2D</th>\n",
       "      <td>1</td>\n",
       "    </tr>\n",
       "    <tr>\n",
       "      <th>3A</th>\n",
       "      <td>1</td>\n",
       "    </tr>\n",
       "    <tr>\n",
       "      <th>3B</th>\n",
       "      <td>1</td>\n",
       "    </tr>\n",
       "    <tr>\n",
       "      <th>3C</th>\n",
       "      <td>1</td>\n",
       "    </tr>\n",
       "    <tr>\n",
       "      <th>3D</th>\n",
       "      <td>1</td>\n",
       "    </tr>\n",
       "    <tr>\n",
       "      <th>4A</th>\n",
       "      <td>1</td>\n",
       "    </tr>\n",
       "    <tr>\n",
       "      <th>4B</th>\n",
       "      <td>1</td>\n",
       "    </tr>\n",
       "    <tr>\n",
       "      <th>4C</th>\n",
       "      <td>1</td>\n",
       "    </tr>\n",
       "    <tr>\n",
       "      <th>4D</th>\n",
       "      <td>1</td>\n",
       "    </tr>\n",
       "    <tr>\n",
       "      <th>4E</th>\n",
       "      <td>1</td>\n",
       "    </tr>\n",
       "    <tr>\n",
       "      <th>5A</th>\n",
       "      <td>1</td>\n",
       "    </tr>\n",
       "    <tr>\n",
       "      <th>5B</th>\n",
       "      <td>1</td>\n",
       "    </tr>\n",
       "    <tr>\n",
       "      <th>5C</th>\n",
       "      <td>1</td>\n",
       "    </tr>\n",
       "    <tr>\n",
       "      <th>W</th>\n",
       "      <td>1</td>\n",
       "    </tr>\n",
       "  </tbody>\n",
       "</table>\n",
       "</div>"
      ],
      "text/plain": [
       "       value\n",
       "-1       138\n",
       "-1, 9     75\n",
       "-1, 0     16\n",
       "…          7\n",
       "O          1\n",
       "7E         1\n",
       "6B         1\n",
       "6C         1\n",
       "6D         1\n",
       "6E         1\n",
       "6F         1\n",
       "7A         1\n",
       "7B         1\n",
       "7C         1\n",
       "7D         1\n",
       "8A         1\n",
       "-1         1\n",
       "6A         1\n",
       "8C         1\n",
       "8D         1\n",
       "9A         1\n",
       "9B         1\n",
       "9C         1\n",
       "9D         1\n",
       "9E         1\n",
       "8B         1\n",
       "5E         1\n",
       "5F         1\n",
       "5D         1\n",
       "1A         1\n",
       "1B         1\n",
       "1C         1\n",
       "1D         1\n",
       "1E         1\n",
       "2A         1\n",
       "2B         1\n",
       "2C         1\n",
       "2D         1\n",
       "3A         1\n",
       "3B         1\n",
       "3C         1\n",
       "3D         1\n",
       "4A         1\n",
       "4B         1\n",
       "4C         1\n",
       "4D         1\n",
       "4E         1\n",
       "5A         1\n",
       "5B         1\n",
       "5C         1\n",
       "W          1"
      ]
     },
     "execution_count": 13,
     "metadata": {},
     "output_type": "execute_result"
    }
   ],
   "source": [
    "# Extract data from the value column that are not numeric.\n",
    "metadata_numeric_vals = metadata_df['value'].astype('string').str.isnumeric()\n",
    "\n",
    "metadata_df[~ metadata_numeric_vals]['value'].value_counts().to_frame()"
   ]
  },
  {
   "cell_type": "markdown",
   "id": "5cdc6a1b",
   "metadata": {},
   "source": [
    " For value column, some entries are invalid or contain multiple values. Example: `\"-1, 9\"`, `\"-1, 0\"`, `\"...\"` and `\"-1\"` represented as a string."
   ]
  },
  {
   "cell_type": "markdown",
   "id": "e04dd603",
   "metadata": {},
   "source": [
    "### Split columns that contain multiple values for unknown"
   ]
  },
  {
   "cell_type": "markdown",
   "id": "69b2cecf",
   "metadata": {},
   "source": [
    "Here we fix `\"-1, 9\"`, `\"-1, 0\"` and separate each value to two columns"
   ]
  },
  {
   "cell_type": "code",
   "execution_count": 14,
   "id": "bafa2712",
   "metadata": {},
   "outputs": [],
   "source": [
    "#split column that contain multiple values as unknown, example : '-1, 0'\n",
    "def split_column(df, column_name, separator): \n",
    "    s = df[column_name].str.split(separator).apply(pd.Series, 1).stack()\n",
    "    s.index = s.index.droplevel(-1)\n",
    "    s.name = 'value_split'\n",
    "    df = df.join(s)\n",
    "    df.loc[s.index, 'value'] = df.loc[s.index, 'value_split']\n",
    "    df.drop(columns=['value_split'], inplace=True)\n",
    "    df.reset_index(drop=True, inplace=True)\n",
    "    return df"
   ]
  },
  {
   "cell_type": "code",
   "execution_count": 15,
   "id": "9d1cf54b",
   "metadata": {},
   "outputs": [],
   "source": [
    "metadata_df = split_column(metadata_df, 'value', ', ')"
   ]
  },
  {
   "cell_type": "markdown",
   "id": "3097c364",
   "metadata": {},
   "source": [
    "Convert values of `['-1', '0']` represented as a string to numeric"
   ]
  },
  {
   "cell_type": "code",
   "execution_count": 16,
   "id": "f51efac3",
   "metadata": {},
   "outputs": [],
   "source": [
    "metadata_df.loc[metadata_df['value'].isin(['-1', '0']), 'value'] = \\\n",
    "metadata_df.query(\"value in ['-1', '0']\")['value'].apply(lambda x: int(x))"
   ]
  },
  {
   "cell_type": "code",
   "execution_count": 17,
   "id": "65d2b605",
   "metadata": {},
   "outputs": [
    {
     "data": {
      "text/html": [
       "<div>\n",
       "<style scoped>\n",
       "    .dataframe tbody tr th:only-of-type {\n",
       "        vertical-align: middle;\n",
       "    }\n",
       "\n",
       "    .dataframe tbody tr th {\n",
       "        vertical-align: top;\n",
       "    }\n",
       "\n",
       "    .dataframe thead th {\n",
       "        text-align: right;\n",
       "    }\n",
       "</style>\n",
       "<table border=\"1\" class=\"dataframe\">\n",
       "  <thead>\n",
       "    <tr style=\"text-align: right;\">\n",
       "      <th></th>\n",
       "      <th>value</th>\n",
       "    </tr>\n",
       "  </thead>\n",
       "  <tbody>\n",
       "    <tr>\n",
       "      <th>-1</th>\n",
       "      <td>230</td>\n",
       "    </tr>\n",
       "    <tr>\n",
       "      <th>…</th>\n",
       "      <td>7</td>\n",
       "    </tr>\n",
       "    <tr>\n",
       "      <th>6A</th>\n",
       "      <td>1</td>\n",
       "    </tr>\n",
       "    <tr>\n",
       "      <th>6B</th>\n",
       "      <td>1</td>\n",
       "    </tr>\n",
       "    <tr>\n",
       "      <th>6C</th>\n",
       "      <td>1</td>\n",
       "    </tr>\n",
       "    <tr>\n",
       "      <th>6D</th>\n",
       "      <td>1</td>\n",
       "    </tr>\n",
       "    <tr>\n",
       "      <th>6E</th>\n",
       "      <td>1</td>\n",
       "    </tr>\n",
       "    <tr>\n",
       "      <th>6F</th>\n",
       "      <td>1</td>\n",
       "    </tr>\n",
       "    <tr>\n",
       "      <th>7A</th>\n",
       "      <td>1</td>\n",
       "    </tr>\n",
       "    <tr>\n",
       "      <th>7B</th>\n",
       "      <td>1</td>\n",
       "    </tr>\n",
       "    <tr>\n",
       "      <th>7C</th>\n",
       "      <td>1</td>\n",
       "    </tr>\n",
       "    <tr>\n",
       "      <th>7D</th>\n",
       "      <td>1</td>\n",
       "    </tr>\n",
       "    <tr>\n",
       "      <th>7E</th>\n",
       "      <td>1</td>\n",
       "    </tr>\n",
       "    <tr>\n",
       "      <th>8A</th>\n",
       "      <td>1</td>\n",
       "    </tr>\n",
       "    <tr>\n",
       "      <th>8B</th>\n",
       "      <td>1</td>\n",
       "    </tr>\n",
       "    <tr>\n",
       "      <th>8C</th>\n",
       "      <td>1</td>\n",
       "    </tr>\n",
       "    <tr>\n",
       "      <th>8D</th>\n",
       "      <td>1</td>\n",
       "    </tr>\n",
       "    <tr>\n",
       "      <th>9A</th>\n",
       "      <td>1</td>\n",
       "    </tr>\n",
       "    <tr>\n",
       "      <th>9B</th>\n",
       "      <td>1</td>\n",
       "    </tr>\n",
       "    <tr>\n",
       "      <th>9C</th>\n",
       "      <td>1</td>\n",
       "    </tr>\n",
       "    <tr>\n",
       "      <th>9D</th>\n",
       "      <td>1</td>\n",
       "    </tr>\n",
       "    <tr>\n",
       "      <th>9E</th>\n",
       "      <td>1</td>\n",
       "    </tr>\n",
       "    <tr>\n",
       "      <th>O</th>\n",
       "      <td>1</td>\n",
       "    </tr>\n",
       "    <tr>\n",
       "      <th>5F</th>\n",
       "      <td>1</td>\n",
       "    </tr>\n",
       "    <tr>\n",
       "      <th>5E</th>\n",
       "      <td>1</td>\n",
       "    </tr>\n",
       "    <tr>\n",
       "      <th>5D</th>\n",
       "      <td>1</td>\n",
       "    </tr>\n",
       "    <tr>\n",
       "      <th>3A</th>\n",
       "      <td>1</td>\n",
       "    </tr>\n",
       "    <tr>\n",
       "      <th>1A</th>\n",
       "      <td>1</td>\n",
       "    </tr>\n",
       "    <tr>\n",
       "      <th>1B</th>\n",
       "      <td>1</td>\n",
       "    </tr>\n",
       "    <tr>\n",
       "      <th>1C</th>\n",
       "      <td>1</td>\n",
       "    </tr>\n",
       "    <tr>\n",
       "      <th>1D</th>\n",
       "      <td>1</td>\n",
       "    </tr>\n",
       "    <tr>\n",
       "      <th>1E</th>\n",
       "      <td>1</td>\n",
       "    </tr>\n",
       "    <tr>\n",
       "      <th>2A</th>\n",
       "      <td>1</td>\n",
       "    </tr>\n",
       "    <tr>\n",
       "      <th>2B</th>\n",
       "      <td>1</td>\n",
       "    </tr>\n",
       "    <tr>\n",
       "      <th>2C</th>\n",
       "      <td>1</td>\n",
       "    </tr>\n",
       "    <tr>\n",
       "      <th>2D</th>\n",
       "      <td>1</td>\n",
       "    </tr>\n",
       "    <tr>\n",
       "      <th>3B</th>\n",
       "      <td>1</td>\n",
       "    </tr>\n",
       "    <tr>\n",
       "      <th>5C</th>\n",
       "      <td>1</td>\n",
       "    </tr>\n",
       "    <tr>\n",
       "      <th>3C</th>\n",
       "      <td>1</td>\n",
       "    </tr>\n",
       "    <tr>\n",
       "      <th>3D</th>\n",
       "      <td>1</td>\n",
       "    </tr>\n",
       "    <tr>\n",
       "      <th>4A</th>\n",
       "      <td>1</td>\n",
       "    </tr>\n",
       "    <tr>\n",
       "      <th>4B</th>\n",
       "      <td>1</td>\n",
       "    </tr>\n",
       "    <tr>\n",
       "      <th>4C</th>\n",
       "      <td>1</td>\n",
       "    </tr>\n",
       "    <tr>\n",
       "      <th>4D</th>\n",
       "      <td>1</td>\n",
       "    </tr>\n",
       "    <tr>\n",
       "      <th>4E</th>\n",
       "      <td>1</td>\n",
       "    </tr>\n",
       "    <tr>\n",
       "      <th>5A</th>\n",
       "      <td>1</td>\n",
       "    </tr>\n",
       "    <tr>\n",
       "      <th>5B</th>\n",
       "      <td>1</td>\n",
       "    </tr>\n",
       "    <tr>\n",
       "      <th>W</th>\n",
       "      <td>1</td>\n",
       "    </tr>\n",
       "  </tbody>\n",
       "</table>\n",
       "</div>"
      ],
      "text/plain": [
       "    value\n",
       "-1    230\n",
       "…       7\n",
       "6A      1\n",
       "6B      1\n",
       "6C      1\n",
       "6D      1\n",
       "6E      1\n",
       "6F      1\n",
       "7A      1\n",
       "7B      1\n",
       "7C      1\n",
       "7D      1\n",
       "7E      1\n",
       "8A      1\n",
       "8B      1\n",
       "8C      1\n",
       "8D      1\n",
       "9A      1\n",
       "9B      1\n",
       "9C      1\n",
       "9D      1\n",
       "9E      1\n",
       "O       1\n",
       "5F      1\n",
       "5E      1\n",
       "5D      1\n",
       "3A      1\n",
       "1A      1\n",
       "1B      1\n",
       "1C      1\n",
       "1D      1\n",
       "1E      1\n",
       "2A      1\n",
       "2B      1\n",
       "2C      1\n",
       "2D      1\n",
       "3B      1\n",
       "5C      1\n",
       "3C      1\n",
       "3D      1\n",
       "4A      1\n",
       "4B      1\n",
       "4C      1\n",
       "4D      1\n",
       "4E      1\n",
       "5A      1\n",
       "5B      1\n",
       "W       1"
      ]
     },
     "metadata": {},
     "output_type": "display_data"
    }
   ],
   "source": [
    "metadata_numeric_vals = metadata_df['value'].astype('string').str.isnumeric()\n",
    "display(metadata_df[~ metadata_numeric_vals]['value'].value_counts().to_frame())\n",
    "del metadata_numeric_vals"
   ]
  },
  {
   "cell_type": "markdown",
   "id": "362bb33a",
   "metadata": {},
   "source": [
    "### Flag numeric and categorical values"
   ]
  },
  {
   "cell_type": "markdown",
   "id": "721eec0d",
   "metadata": {},
   "source": [
    "The majority of attributes are categorical nominal variables. Create a type column, and set all values by default to `nominal`"
   ]
  },
  {
   "cell_type": "code",
   "execution_count": 18,
   "id": "638d6885",
   "metadata": {},
   "outputs": [],
   "source": [
    "metadata_df['type'] = 'nominal'"
   ]
  },
  {
   "cell_type": "markdown",
   "id": "604476a1",
   "metadata": {},
   "source": [
    "Query for numeric types, they are marked in the dataframe with `…`"
   ]
  },
  {
   "cell_type": "code",
   "execution_count": 19,
   "id": "d2669824",
   "metadata": {},
   "outputs": [
    {
     "data": {
      "text/html": [
       "<div>\n",
       "<style scoped>\n",
       "    .dataframe tbody tr th:only-of-type {\n",
       "        vertical-align: middle;\n",
       "    }\n",
       "\n",
       "    .dataframe tbody tr th {\n",
       "        vertical-align: top;\n",
       "    }\n",
       "\n",
       "    .dataframe thead th {\n",
       "        text-align: right;\n",
       "    }\n",
       "</style>\n",
       "<table border=\"1\" class=\"dataframe\">\n",
       "  <thead>\n",
       "    <tr style=\"text-align: right;\">\n",
       "      <th></th>\n",
       "      <th>attribute</th>\n",
       "      <th>description</th>\n",
       "      <th>value</th>\n",
       "      <th>meaning</th>\n",
       "      <th>type</th>\n",
       "    </tr>\n",
       "  </thead>\n",
       "  <tbody>\n",
       "    <tr>\n",
       "      <th>38</th>\n",
       "      <td>ANZ_HAUSHALTE_AKTIV</td>\n",
       "      <td>number of households in the building</td>\n",
       "      <td>…</td>\n",
       "      <td>numeric value (typically coded from 1-10)</td>\n",
       "      <td>nominal</td>\n",
       "    </tr>\n",
       "    <tr>\n",
       "      <th>39</th>\n",
       "      <td>ANZ_HH_TITEL</td>\n",
       "      <td>number of academic title holder in building</td>\n",
       "      <td>…</td>\n",
       "      <td>numeric value (typically coded from 1-10)</td>\n",
       "      <td>nominal</td>\n",
       "    </tr>\n",
       "    <tr>\n",
       "      <th>40</th>\n",
       "      <td>ANZ_PERSONEN</td>\n",
       "      <td>number of adult persons in the household</td>\n",
       "      <td>…</td>\n",
       "      <td>numeric value (typically coded from 1-3)</td>\n",
       "      <td>nominal</td>\n",
       "    </tr>\n",
       "    <tr>\n",
       "      <th>41</th>\n",
       "      <td>ANZ_TITEL</td>\n",
       "      <td>number of professional title holder in household</td>\n",
       "      <td>…</td>\n",
       "      <td>numeric value (typically coded from 1-10)</td>\n",
       "      <td>nominal</td>\n",
       "    </tr>\n",
       "    <tr>\n",
       "      <th>714</th>\n",
       "      <td>GEBURTSJAHR</td>\n",
       "      <td>year of birth</td>\n",
       "      <td>…</td>\n",
       "      <td>numeric value</td>\n",
       "      <td>nominal</td>\n",
       "    </tr>\n",
       "    <tr>\n",
       "      <th>1234</th>\n",
       "      <td>KBA13_ANZAHL_PKW</td>\n",
       "      <td>number of cars in the PLZ8</td>\n",
       "      <td>…</td>\n",
       "      <td>numeric value</td>\n",
       "      <td>nominal</td>\n",
       "    </tr>\n",
       "    <tr>\n",
       "      <th>2054</th>\n",
       "      <td>MIN_GEBAEUDEJAHR</td>\n",
       "      <td>year the building was first mentioned in our d...</td>\n",
       "      <td>…</td>\n",
       "      <td>numeric value</td>\n",
       "      <td>nominal</td>\n",
       "    </tr>\n",
       "  </tbody>\n",
       "</table>\n",
       "</div>"
      ],
      "text/plain": [
       "                attribute                                        description  \\\n",
       "38    ANZ_HAUSHALTE_AKTIV               number of households in the building   \n",
       "39           ANZ_HH_TITEL        number of academic title holder in building   \n",
       "40           ANZ_PERSONEN           number of adult persons in the household   \n",
       "41              ANZ_TITEL  number of professional title holder in household    \n",
       "714           GEBURTSJAHR                                      year of birth   \n",
       "1234     KBA13_ANZAHL_PKW                         number of cars in the PLZ8   \n",
       "2054     MIN_GEBAEUDEJAHR  year the building was first mentioned in our d...   \n",
       "\n",
       "     value                                    meaning     type  \n",
       "38       …  numeric value (typically coded from 1-10)  nominal  \n",
       "39       …  numeric value (typically coded from 1-10)  nominal  \n",
       "40       …   numeric value (typically coded from 1-3)  nominal  \n",
       "41       …  numeric value (typically coded from 1-10)  nominal  \n",
       "714      …                              numeric value  nominal  \n",
       "1234     …                              numeric value  nominal  \n",
       "2054     …                              numeric value  nominal  "
      ]
     },
     "execution_count": 19,
     "metadata": {},
     "output_type": "execute_result"
    }
   ],
   "source": [
    "metadata_df[metadata_df['value'] == '…']"
   ]
  },
  {
   "cell_type": "markdown",
   "id": "e5960d4e",
   "metadata": {},
   "source": [
    "Set the type for numeric values to `float` to mark them"
   ]
  },
  {
   "cell_type": "code",
   "execution_count": 20,
   "id": "34a936fc",
   "metadata": {},
   "outputs": [],
   "source": [
    "metadata_df.type.where((metadata_df['value'] != '…'), 'numeric', inplace=True)"
   ]
  },
  {
   "cell_type": "code",
   "execution_count": 21,
   "id": "60f7c497",
   "metadata": {},
   "outputs": [
    {
     "data": {
      "text/html": [
       "<div>\n",
       "<style scoped>\n",
       "    .dataframe tbody tr th:only-of-type {\n",
       "        vertical-align: middle;\n",
       "    }\n",
       "\n",
       "    .dataframe tbody tr th {\n",
       "        vertical-align: top;\n",
       "    }\n",
       "\n",
       "    .dataframe thead th {\n",
       "        text-align: right;\n",
       "    }\n",
       "</style>\n",
       "<table border=\"1\" class=\"dataframe\">\n",
       "  <thead>\n",
       "    <tr style=\"text-align: right;\">\n",
       "      <th></th>\n",
       "      <th>attribute</th>\n",
       "      <th>description</th>\n",
       "      <th>value</th>\n",
       "      <th>meaning</th>\n",
       "      <th>type</th>\n",
       "    </tr>\n",
       "  </thead>\n",
       "  <tbody>\n",
       "    <tr>\n",
       "      <th>38</th>\n",
       "      <td>ANZ_HAUSHALTE_AKTIV</td>\n",
       "      <td>number of households in the building</td>\n",
       "      <td>…</td>\n",
       "      <td>numeric value (typically coded from 1-10)</td>\n",
       "      <td>numeric</td>\n",
       "    </tr>\n",
       "    <tr>\n",
       "      <th>39</th>\n",
       "      <td>ANZ_HH_TITEL</td>\n",
       "      <td>number of academic title holder in building</td>\n",
       "      <td>…</td>\n",
       "      <td>numeric value (typically coded from 1-10)</td>\n",
       "      <td>numeric</td>\n",
       "    </tr>\n",
       "    <tr>\n",
       "      <th>40</th>\n",
       "      <td>ANZ_PERSONEN</td>\n",
       "      <td>number of adult persons in the household</td>\n",
       "      <td>…</td>\n",
       "      <td>numeric value (typically coded from 1-3)</td>\n",
       "      <td>numeric</td>\n",
       "    </tr>\n",
       "    <tr>\n",
       "      <th>41</th>\n",
       "      <td>ANZ_TITEL</td>\n",
       "      <td>number of professional title holder in household</td>\n",
       "      <td>…</td>\n",
       "      <td>numeric value (typically coded from 1-10)</td>\n",
       "      <td>numeric</td>\n",
       "    </tr>\n",
       "    <tr>\n",
       "      <th>714</th>\n",
       "      <td>GEBURTSJAHR</td>\n",
       "      <td>year of birth</td>\n",
       "      <td>…</td>\n",
       "      <td>numeric value</td>\n",
       "      <td>numeric</td>\n",
       "    </tr>\n",
       "    <tr>\n",
       "      <th>1234</th>\n",
       "      <td>KBA13_ANZAHL_PKW</td>\n",
       "      <td>number of cars in the PLZ8</td>\n",
       "      <td>…</td>\n",
       "      <td>numeric value</td>\n",
       "      <td>numeric</td>\n",
       "    </tr>\n",
       "    <tr>\n",
       "      <th>2054</th>\n",
       "      <td>MIN_GEBAEUDEJAHR</td>\n",
       "      <td>year the building was first mentioned in our d...</td>\n",
       "      <td>…</td>\n",
       "      <td>numeric value</td>\n",
       "      <td>numeric</td>\n",
       "    </tr>\n",
       "  </tbody>\n",
       "</table>\n",
       "</div>"
      ],
      "text/plain": [
       "                attribute                                        description  \\\n",
       "38    ANZ_HAUSHALTE_AKTIV               number of households in the building   \n",
       "39           ANZ_HH_TITEL        number of academic title holder in building   \n",
       "40           ANZ_PERSONEN           number of adult persons in the household   \n",
       "41              ANZ_TITEL  number of professional title holder in household    \n",
       "714           GEBURTSJAHR                                      year of birth   \n",
       "1234     KBA13_ANZAHL_PKW                         number of cars in the PLZ8   \n",
       "2054     MIN_GEBAEUDEJAHR  year the building was first mentioned in our d...   \n",
       "\n",
       "     value                                    meaning     type  \n",
       "38       …  numeric value (typically coded from 1-10)  numeric  \n",
       "39       …  numeric value (typically coded from 1-10)  numeric  \n",
       "40       …   numeric value (typically coded from 1-3)  numeric  \n",
       "41       …  numeric value (typically coded from 1-10)  numeric  \n",
       "714      …                              numeric value  numeric  \n",
       "1234     …                              numeric value  numeric  \n",
       "2054     …                              numeric value  numeric  "
      ]
     },
     "execution_count": 21,
     "metadata": {},
     "output_type": "execute_result"
    }
   ],
   "source": [
    "metadata_df[metadata_df.type == 'numeric']"
   ]
  },
  {
   "cell_type": "markdown",
   "id": "c2141508",
   "metadata": {},
   "source": [
    "Isolate ordinal categorical variables."
   ]
  },
  {
   "cell_type": "code",
   "execution_count": 22,
   "id": "269fc253",
   "metadata": {},
   "outputs": [],
   "source": [
    "ordinal_cols = ['ALTER_HH', 'BALLRAUM', 'EWDICHTE', 'FINANZ_ANLEGER',\n",
    "       'FINANZ_HAUSBAUER', 'FINANZ_MINIMALIST', 'FINANZ_SPARER',\n",
    "       'FINANZ_UNAUFFAELLIGER', 'FINANZ_VORSORGER', 'GEOSCORE_KLS7',\n",
    "       'HH_EINKOMMEN_SCORE', 'INNENSTADT', 'KKK', 'KONSUMNAEHE',\n",
    "       'MOBI_REGIO', 'ONLINE_AFFINITAET', 'ORTSGR_KLS9', 'RELAT_AB',\n",
    "       'WOHNDAUER_2008', 'WOHNLAGE', 'WACHSTUMSGEBIET_NB',\n",
    "       'W_KEIT_KIND_HH'] + ['D19_BANKEN_ANZ_12', 'D19_BANKEN_ANZ_24', 'D19_BANKEN_DATUM',\n",
    "       'D19_BANKEN_OFFLINE_DATUM', 'D19_BANKEN_ONLINE_DATUM',\n",
    "       'D19_BANKEN_ONLINE_QUOTE_12', 'D19_GESAMT_ANZ_12',\n",
    "       'D19_GESAMT_ANZ_24', 'D19_GESAMT_DATUM',\n",
    "       'D19_GESAMT_OFFLINE_DATUM', 'D19_GESAMT_ONLINE_DATUM',\n",
    "       'D19_GESAMT_ONLINE_QUOTE_12', 'D19_TELKO_ANZ_12',\n",
    "       'D19_TELKO_ANZ_24', 'D19_TELKO_DATUM', 'D19_TELKO_OFFLINE_DATUM',\n",
    "       'D19_TELKO_ONLINE_DATUM', 'D19_VERSAND_ANZ_12',\n",
    "       'D19_VERSAND_ANZ_24', 'D19_VERSAND_DATUM',\n",
    "       'D19_VERSAND_OFFLINE_DATUM', 'D19_VERSAND_ONLINE_DATUM',\n",
    "       'D19_VERSAND_ONLINE_QUOTE_12', 'D19_VERSI_ANZ_12',\n",
    "       'D19_VERSI_ANZ_24'] + \\\n",
    "metadata_df[metadata_df.attribute.str.match('KBA*')]['attribute'].unique().tolist() + \\\n",
    "metadata_df[metadata_df.attribute.str.match('PLZ.*')]['attribute'].unique().tolist() + \\\n",
    "metadata_df[metadata_df.attribute.str.match('SEMIO.*')]['attribute'].unique().tolist()"
   ]
  },
  {
   "cell_type": "code",
   "execution_count": 23,
   "id": "11bb1fa0",
   "metadata": {},
   "outputs": [],
   "source": [
    "ordinal_cols.remove('KBA13_ANZAHL_PKW') #numerical column"
   ]
  },
  {
   "cell_type": "code",
   "execution_count": 24,
   "id": "2eda06e0",
   "metadata": {},
   "outputs": [],
   "source": [
    "# Set the type of ordinal values in the metadata dataframe\n",
    "metadata_df.type.where(~ metadata_df.attribute.isin(ordinal_cols), 'ordinal', inplace=True)"
   ]
  },
  {
   "cell_type": "markdown",
   "id": "6f8d6e15",
   "metadata": {},
   "source": [
    "### Find Other Classes that Represent Unknown and Set Their Meaning to `unknown`"
   ]
  },
  {
   "cell_type": "markdown",
   "id": "441edd1c",
   "metadata": {},
   "source": [
    "Find transaction values that their meaning represent `unknown`"
   ]
  },
  {
   "cell_type": "code",
   "execution_count": 25,
   "id": "0a7d6e01",
   "metadata": {},
   "outputs": [
    {
     "data": {
      "text/html": [
       "<div>\n",
       "<style scoped>\n",
       "    .dataframe tbody tr th:only-of-type {\n",
       "        vertical-align: middle;\n",
       "    }\n",
       "\n",
       "    .dataframe tbody tr th {\n",
       "        vertical-align: top;\n",
       "    }\n",
       "\n",
       "    .dataframe thead th {\n",
       "        text-align: right;\n",
       "    }\n",
       "</style>\n",
       "<table border=\"1\" class=\"dataframe\">\n",
       "  <thead>\n",
       "    <tr style=\"text-align: right;\">\n",
       "      <th></th>\n",
       "      <th>attribute</th>\n",
       "      <th>description</th>\n",
       "      <th>value</th>\n",
       "      <th>meaning</th>\n",
       "      <th>type</th>\n",
       "    </tr>\n",
       "  </thead>\n",
       "  <tbody>\n",
       "    <tr>\n",
       "      <th>140</th>\n",
       "      <td>D19_BANKEN_ANZ_12</td>\n",
       "      <td>transaction activity BANKS in the last 12 months</td>\n",
       "      <td>0</td>\n",
       "      <td>no transactions known</td>\n",
       "      <td>ordinal</td>\n",
       "    </tr>\n",
       "    <tr>\n",
       "      <th>147</th>\n",
       "      <td>D19_BANKEN_ANZ_24</td>\n",
       "      <td>transaction activity BANKS in the last 24 months</td>\n",
       "      <td>0</td>\n",
       "      <td>no transactions known</td>\n",
       "      <td>ordinal</td>\n",
       "    </tr>\n",
       "    <tr>\n",
       "      <th>163</th>\n",
       "      <td>D19_BANKEN_DATUM</td>\n",
       "      <td>actuality of the last transaction for the segm...</td>\n",
       "      <td>10</td>\n",
       "      <td>no transactions known</td>\n",
       "      <td>ordinal</td>\n",
       "    </tr>\n",
       "    <tr>\n",
       "      <th>164</th>\n",
       "      <td>D19_BANKEN_DIREKT_RZ</td>\n",
       "      <td>transactional activity based on the product gr...</td>\n",
       "      <td>0</td>\n",
       "      <td>no transaction known</td>\n",
       "      <td>nominal</td>\n",
       "    </tr>\n",
       "    <tr>\n",
       "      <th>172</th>\n",
       "      <td>D19_BANKEN_GROSS_RZ</td>\n",
       "      <td>transactional activity based on the product gr...</td>\n",
       "      <td>0</td>\n",
       "      <td>no transaction known</td>\n",
       "      <td>nominal</td>\n",
       "    </tr>\n",
       "    <tr>\n",
       "      <th>180</th>\n",
       "      <td>D19_BANKEN_LOKAL_RZ</td>\n",
       "      <td>transactional activity based on the product gr...</td>\n",
       "      <td>0</td>\n",
       "      <td>no transaction known</td>\n",
       "      <td>nominal</td>\n",
       "    </tr>\n",
       "    <tr>\n",
       "      <th>197</th>\n",
       "      <td>D19_BANKEN_OFFLINE_DATUM</td>\n",
       "      <td>actuality of the last transaction for the segm...</td>\n",
       "      <td>10</td>\n",
       "      <td>no transactions known</td>\n",
       "      <td>ordinal</td>\n",
       "    </tr>\n",
       "    <tr>\n",
       "      <th>207</th>\n",
       "      <td>D19_BANKEN_ONLINE_DATUM</td>\n",
       "      <td>actuality of the last transaction for the segm...</td>\n",
       "      <td>10</td>\n",
       "      <td>no transactions known</td>\n",
       "      <td>ordinal</td>\n",
       "    </tr>\n",
       "    <tr>\n",
       "      <th>208</th>\n",
       "      <td>D19_BANKEN_ONLINE_QUOTE_12</td>\n",
       "      <td>amount of online transactions within all trans...</td>\n",
       "      <td>0</td>\n",
       "      <td>no Online-transactions within the last 12 months</td>\n",
       "      <td>ordinal</td>\n",
       "    </tr>\n",
       "    <tr>\n",
       "      <th>219</th>\n",
       "      <td>D19_BANKEN_REST_RZ</td>\n",
       "      <td>transactional activity based on the product gr...</td>\n",
       "      <td>0</td>\n",
       "      <td>no transaction known</td>\n",
       "      <td>nominal</td>\n",
       "    </tr>\n",
       "    <tr>\n",
       "      <th>227</th>\n",
       "      <td>D19_BEKLEIDUNG_GEH_RZ</td>\n",
       "      <td>transactional activity based on the product gr...</td>\n",
       "      <td>0</td>\n",
       "      <td>no transaction known</td>\n",
       "      <td>nominal</td>\n",
       "    </tr>\n",
       "    <tr>\n",
       "      <th>235</th>\n",
       "      <td>D19_BEKLEIDUNG_REST_RZ</td>\n",
       "      <td>transactional activity based on the product gr...</td>\n",
       "      <td>0</td>\n",
       "      <td>no transaction known</td>\n",
       "      <td>nominal</td>\n",
       "    </tr>\n",
       "    <tr>\n",
       "      <th>243</th>\n",
       "      <td>D19_BILDUNG_RZ</td>\n",
       "      <td>transactional activity based on the product gr...</td>\n",
       "      <td>0</td>\n",
       "      <td>no transaction known</td>\n",
       "      <td>nominal</td>\n",
       "    </tr>\n",
       "    <tr>\n",
       "      <th>251</th>\n",
       "      <td>D19_BIO_OEKO_RZ</td>\n",
       "      <td>transactional activity based on the product gr...</td>\n",
       "      <td>0</td>\n",
       "      <td>no transaction known</td>\n",
       "      <td>nominal</td>\n",
       "    </tr>\n",
       "    <tr>\n",
       "      <th>259</th>\n",
       "      <td>D19_BUCH_RZ</td>\n",
       "      <td>transactional activity based on the product gr...</td>\n",
       "      <td>0</td>\n",
       "      <td>no transaction known</td>\n",
       "      <td>nominal</td>\n",
       "    </tr>\n",
       "    <tr>\n",
       "      <th>267</th>\n",
       "      <td>D19_DIGIT_SERV_RZ</td>\n",
       "      <td>transactional activity based on the product gr...</td>\n",
       "      <td>0</td>\n",
       "      <td>no transaction known</td>\n",
       "      <td>nominal</td>\n",
       "    </tr>\n",
       "    <tr>\n",
       "      <th>275</th>\n",
       "      <td>D19_DROGERIEARTIKEL_RZ</td>\n",
       "      <td>transactional activity based on the product gr...</td>\n",
       "      <td>0</td>\n",
       "      <td>no transaction known</td>\n",
       "      <td>nominal</td>\n",
       "    </tr>\n",
       "    <tr>\n",
       "      <th>283</th>\n",
       "      <td>D19_ENERGIE_RZ</td>\n",
       "      <td>transactional activity based on the product gr...</td>\n",
       "      <td>0</td>\n",
       "      <td>no transaction known</td>\n",
       "      <td>nominal</td>\n",
       "    </tr>\n",
       "    <tr>\n",
       "      <th>291</th>\n",
       "      <td>D19_FREIZEIT_RZ</td>\n",
       "      <td>transactional activity based on the product gr...</td>\n",
       "      <td>0</td>\n",
       "      <td>no transaction known</td>\n",
       "      <td>nominal</td>\n",
       "    </tr>\n",
       "    <tr>\n",
       "      <th>299</th>\n",
       "      <td>D19_GARTEN_RZ</td>\n",
       "      <td>transactional activity based on the product gr...</td>\n",
       "      <td>0</td>\n",
       "      <td>no transaction known</td>\n",
       "      <td>nominal</td>\n",
       "    </tr>\n",
       "    <tr>\n",
       "      <th>307</th>\n",
       "      <td>D19_GESAMT_ANZ_12</td>\n",
       "      <td>transaction activity TOTAL POOL in the last 12...</td>\n",
       "      <td>0</td>\n",
       "      <td>no transactions known</td>\n",
       "      <td>ordinal</td>\n",
       "    </tr>\n",
       "    <tr>\n",
       "      <th>314</th>\n",
       "      <td>D19_GESAMT_ANZ_24</td>\n",
       "      <td>transaction activity TOTAL POOL in the last 24...</td>\n",
       "      <td>0</td>\n",
       "      <td>no transactions known</td>\n",
       "      <td>ordinal</td>\n",
       "    </tr>\n",
       "    <tr>\n",
       "      <th>330</th>\n",
       "      <td>D19_GESAMT_DATUM</td>\n",
       "      <td>actuality of the last transaction with the com...</td>\n",
       "      <td>10</td>\n",
       "      <td>no transactions known</td>\n",
       "      <td>ordinal</td>\n",
       "    </tr>\n",
       "    <tr>\n",
       "      <th>340</th>\n",
       "      <td>D19_GESAMT_OFFLINE_DATUM</td>\n",
       "      <td>actuality of the last transaction with the com...</td>\n",
       "      <td>10</td>\n",
       "      <td>no transactions known</td>\n",
       "      <td>ordinal</td>\n",
       "    </tr>\n",
       "    <tr>\n",
       "      <th>350</th>\n",
       "      <td>D19_GESAMT_ONLINE_DATUM</td>\n",
       "      <td>actuality of the last transaction with the com...</td>\n",
       "      <td>10</td>\n",
       "      <td>no transactions known</td>\n",
       "      <td>ordinal</td>\n",
       "    </tr>\n",
       "    <tr>\n",
       "      <th>351</th>\n",
       "      <td>D19_GESAMT_ONLINE_QUOTE_12</td>\n",
       "      <td>amount of online transactions within all trans...</td>\n",
       "      <td>0</td>\n",
       "      <td>no Online-transactions within the last 12 months</td>\n",
       "      <td>ordinal</td>\n",
       "    </tr>\n",
       "    <tr>\n",
       "      <th>362</th>\n",
       "      <td>D19_HANDWERK_RZ</td>\n",
       "      <td>transactional activity based on the product gr...</td>\n",
       "      <td>0</td>\n",
       "      <td>no transaction known</td>\n",
       "      <td>nominal</td>\n",
       "    </tr>\n",
       "    <tr>\n",
       "      <th>370</th>\n",
       "      <td>D19_HAUS_DEKO_RZ</td>\n",
       "      <td>transactional activity based on the product gr...</td>\n",
       "      <td>0</td>\n",
       "      <td>no transaction known</td>\n",
       "      <td>nominal</td>\n",
       "    </tr>\n",
       "    <tr>\n",
       "      <th>378</th>\n",
       "      <td>D19_KINDERARTIKEL_RZ</td>\n",
       "      <td>transactional activity based on the product gr...</td>\n",
       "      <td>0</td>\n",
       "      <td>no transaction known</td>\n",
       "      <td>nominal</td>\n",
       "    </tr>\n",
       "    <tr>\n",
       "      <th>400</th>\n",
       "      <td>D19_KOSMETIK_RZ</td>\n",
       "      <td>transactional activity based on the product gr...</td>\n",
       "      <td>0</td>\n",
       "      <td>no transaction known</td>\n",
       "      <td>nominal</td>\n",
       "    </tr>\n",
       "    <tr>\n",
       "      <th>408</th>\n",
       "      <td>D19_LEBENSMITTEL_RZ</td>\n",
       "      <td>transactional activity based on the product gr...</td>\n",
       "      <td>0</td>\n",
       "      <td>no transaction known</td>\n",
       "      <td>nominal</td>\n",
       "    </tr>\n",
       "    <tr>\n",
       "      <th>416</th>\n",
       "      <td>D19_LOTTO_RZ</td>\n",
       "      <td>transactional activity based on the product gr...</td>\n",
       "      <td>0</td>\n",
       "      <td>no transaction known</td>\n",
       "      <td>nominal</td>\n",
       "    </tr>\n",
       "    <tr>\n",
       "      <th>424</th>\n",
       "      <td>D19_NAHRUNGSERGAENZUNG_RZ</td>\n",
       "      <td>transactional activity based on the product gr...</td>\n",
       "      <td>0</td>\n",
       "      <td>no transaction known</td>\n",
       "      <td>nominal</td>\n",
       "    </tr>\n",
       "    <tr>\n",
       "      <th>432</th>\n",
       "      <td>D19_RATGEBER_RZ</td>\n",
       "      <td>transactional activity based on the product gr...</td>\n",
       "      <td>0</td>\n",
       "      <td>no transaction known</td>\n",
       "      <td>nominal</td>\n",
       "    </tr>\n",
       "    <tr>\n",
       "      <th>440</th>\n",
       "      <td>D19_REISEN_RZ</td>\n",
       "      <td>transactional activity based on the product gr...</td>\n",
       "      <td>0</td>\n",
       "      <td>no transaction known</td>\n",
       "      <td>nominal</td>\n",
       "    </tr>\n",
       "    <tr>\n",
       "      <th>448</th>\n",
       "      <td>D19_SAMMELARTIKEL_RZ</td>\n",
       "      <td>transactional activity based on the product gr...</td>\n",
       "      <td>0</td>\n",
       "      <td>no transaction known</td>\n",
       "      <td>nominal</td>\n",
       "    </tr>\n",
       "    <tr>\n",
       "      <th>456</th>\n",
       "      <td>D19_SCHUHE_RZ</td>\n",
       "      <td>transactional activity based on the product gr...</td>\n",
       "      <td>0</td>\n",
       "      <td>no transaction known</td>\n",
       "      <td>nominal</td>\n",
       "    </tr>\n",
       "    <tr>\n",
       "      <th>464</th>\n",
       "      <td>D19_SONSTIGE_RZ</td>\n",
       "      <td>transactional activity based on the product gr...</td>\n",
       "      <td>0</td>\n",
       "      <td>no transaction known</td>\n",
       "      <td>nominal</td>\n",
       "    </tr>\n",
       "    <tr>\n",
       "      <th>472</th>\n",
       "      <td>D19_TECHNIK_RZ</td>\n",
       "      <td>transactional activity based on the product gr...</td>\n",
       "      <td>0</td>\n",
       "      <td>no transaction known</td>\n",
       "      <td>nominal</td>\n",
       "    </tr>\n",
       "    <tr>\n",
       "      <th>480</th>\n",
       "      <td>D19_TELKO_ANZ_12</td>\n",
       "      <td>transaction activity TELCO in the last 12 months</td>\n",
       "      <td>0</td>\n",
       "      <td>no transactions known</td>\n",
       "      <td>ordinal</td>\n",
       "    </tr>\n",
       "    <tr>\n",
       "      <th>487</th>\n",
       "      <td>D19_TELKO_ANZ_24</td>\n",
       "      <td>transaction activity TELCO in the last 24 months</td>\n",
       "      <td>0</td>\n",
       "      <td>no transactions known</td>\n",
       "      <td>ordinal</td>\n",
       "    </tr>\n",
       "    <tr>\n",
       "      <th>503</th>\n",
       "      <td>D19_TELKO_DATUM</td>\n",
       "      <td>actuality of the last transaction for the segm...</td>\n",
       "      <td>10</td>\n",
       "      <td>no transactions known</td>\n",
       "      <td>ordinal</td>\n",
       "    </tr>\n",
       "    <tr>\n",
       "      <th>504</th>\n",
       "      <td>D19_TELKO_MOBILE_RZ</td>\n",
       "      <td>transactional activity based on the product gr...</td>\n",
       "      <td>0</td>\n",
       "      <td>no transaction known</td>\n",
       "      <td>nominal</td>\n",
       "    </tr>\n",
       "    <tr>\n",
       "      <th>521</th>\n",
       "      <td>D19_TELKO_OFFLINE_DATUM</td>\n",
       "      <td>actuality of the last transaction for the segm...</td>\n",
       "      <td>10</td>\n",
       "      <td>no transactions known</td>\n",
       "      <td>ordinal</td>\n",
       "    </tr>\n",
       "    <tr>\n",
       "      <th>531</th>\n",
       "      <td>D19_TELKO_ONLINE_DATUM</td>\n",
       "      <td>actuality of the last transaction for the segm...</td>\n",
       "      <td>10</td>\n",
       "      <td>no transactions known</td>\n",
       "      <td>ordinal</td>\n",
       "    </tr>\n",
       "    <tr>\n",
       "      <th>532</th>\n",
       "      <td>D19_TELKO_REST_RZ</td>\n",
       "      <td>transactional activity based on the product gr...</td>\n",
       "      <td>0</td>\n",
       "      <td>no transaction known</td>\n",
       "      <td>nominal</td>\n",
       "    </tr>\n",
       "    <tr>\n",
       "      <th>540</th>\n",
       "      <td>D19_TIERARTIKEL_RZ</td>\n",
       "      <td>transactional activity based on the product gr...</td>\n",
       "      <td>0</td>\n",
       "      <td>no transaction known</td>\n",
       "      <td>nominal</td>\n",
       "    </tr>\n",
       "    <tr>\n",
       "      <th>548</th>\n",
       "      <td>D19_VERSAND_ANZ_12</td>\n",
       "      <td>transaction activity MAIL-ORDER in the last 12...</td>\n",
       "      <td>0</td>\n",
       "      <td>no transactions known</td>\n",
       "      <td>ordinal</td>\n",
       "    </tr>\n",
       "    <tr>\n",
       "      <th>555</th>\n",
       "      <td>D19_VERSAND_ANZ_24</td>\n",
       "      <td>transaction activity MAIL-ORDER in the last 24...</td>\n",
       "      <td>0</td>\n",
       "      <td>no transactions known</td>\n",
       "      <td>ordinal</td>\n",
       "    </tr>\n",
       "    <tr>\n",
       "      <th>571</th>\n",
       "      <td>D19_VERSAND_DATUM</td>\n",
       "      <td>actuality of the last transaction for the segm...</td>\n",
       "      <td>10</td>\n",
       "      <td>no transactions known</td>\n",
       "      <td>ordinal</td>\n",
       "    </tr>\n",
       "    <tr>\n",
       "      <th>581</th>\n",
       "      <td>D19_VERSAND_OFFLINE_DATUM</td>\n",
       "      <td>actuality of the last transaction for the segm...</td>\n",
       "      <td>10</td>\n",
       "      <td>no transactions known</td>\n",
       "      <td>ordinal</td>\n",
       "    </tr>\n",
       "    <tr>\n",
       "      <th>591</th>\n",
       "      <td>D19_VERSAND_ONLINE_DATUM</td>\n",
       "      <td>actuality of the last transaction for the segm...</td>\n",
       "      <td>10</td>\n",
       "      <td>no transactions known</td>\n",
       "      <td>ordinal</td>\n",
       "    </tr>\n",
       "    <tr>\n",
       "      <th>592</th>\n",
       "      <td>D19_VERSAND_ONLINE_QUOTE_12</td>\n",
       "      <td>amount of online transactions within all trans...</td>\n",
       "      <td>0</td>\n",
       "      <td>no Online-transactions within the last 12 months</td>\n",
       "      <td>ordinal</td>\n",
       "    </tr>\n",
       "    <tr>\n",
       "      <th>603</th>\n",
       "      <td>D19_VERSAND_REST_RZ</td>\n",
       "      <td>transactional activity based on the product gr...</td>\n",
       "      <td>0</td>\n",
       "      <td>no transaction known</td>\n",
       "      <td>nominal</td>\n",
       "    </tr>\n",
       "    <tr>\n",
       "      <th>611</th>\n",
       "      <td>D19_VERSICHERUNGEN_RZ</td>\n",
       "      <td>transactional activity based on the product gr...</td>\n",
       "      <td>0</td>\n",
       "      <td>no transaction known</td>\n",
       "      <td>nominal</td>\n",
       "    </tr>\n",
       "    <tr>\n",
       "      <th>619</th>\n",
       "      <td>D19_VERSI_ANZ_12</td>\n",
       "      <td>transaction activity INSURANCE in the last 12 ...</td>\n",
       "      <td>0</td>\n",
       "      <td>no transactions known</td>\n",
       "      <td>ordinal</td>\n",
       "    </tr>\n",
       "    <tr>\n",
       "      <th>626</th>\n",
       "      <td>D19_VERSI_ANZ_24</td>\n",
       "      <td>transaction activity INSURANCE in the last 24 ...</td>\n",
       "      <td>0</td>\n",
       "      <td>no transactions known</td>\n",
       "      <td>ordinal</td>\n",
       "    </tr>\n",
       "    <tr>\n",
       "      <th>633</th>\n",
       "      <td>D19_VOLLSORTIMENT_RZ</td>\n",
       "      <td>transactional activity based on the product gr...</td>\n",
       "      <td>0</td>\n",
       "      <td>no transaction known</td>\n",
       "      <td>nominal</td>\n",
       "    </tr>\n",
       "    <tr>\n",
       "      <th>641</th>\n",
       "      <td>D19_WEIN_FEINKOST_RZ</td>\n",
       "      <td>transactional activity based on the product gr...</td>\n",
       "      <td>0</td>\n",
       "      <td>no transaction known</td>\n",
       "      <td>nominal</td>\n",
       "    </tr>\n",
       "  </tbody>\n",
       "</table>\n",
       "</div>"
      ],
      "text/plain": [
       "                       attribute  \\\n",
       "140            D19_BANKEN_ANZ_12   \n",
       "147            D19_BANKEN_ANZ_24   \n",
       "163             D19_BANKEN_DATUM   \n",
       "164         D19_BANKEN_DIREKT_RZ   \n",
       "172          D19_BANKEN_GROSS_RZ   \n",
       "180          D19_BANKEN_LOKAL_RZ   \n",
       "197     D19_BANKEN_OFFLINE_DATUM   \n",
       "207      D19_BANKEN_ONLINE_DATUM   \n",
       "208   D19_BANKEN_ONLINE_QUOTE_12   \n",
       "219           D19_BANKEN_REST_RZ   \n",
       "227        D19_BEKLEIDUNG_GEH_RZ   \n",
       "235       D19_BEKLEIDUNG_REST_RZ   \n",
       "243               D19_BILDUNG_RZ   \n",
       "251              D19_BIO_OEKO_RZ   \n",
       "259                  D19_BUCH_RZ   \n",
       "267            D19_DIGIT_SERV_RZ   \n",
       "275       D19_DROGERIEARTIKEL_RZ   \n",
       "283               D19_ENERGIE_RZ   \n",
       "291              D19_FREIZEIT_RZ   \n",
       "299                D19_GARTEN_RZ   \n",
       "307            D19_GESAMT_ANZ_12   \n",
       "314            D19_GESAMT_ANZ_24   \n",
       "330             D19_GESAMT_DATUM   \n",
       "340     D19_GESAMT_OFFLINE_DATUM   \n",
       "350      D19_GESAMT_ONLINE_DATUM   \n",
       "351   D19_GESAMT_ONLINE_QUOTE_12   \n",
       "362              D19_HANDWERK_RZ   \n",
       "370             D19_HAUS_DEKO_RZ   \n",
       "378         D19_KINDERARTIKEL_RZ   \n",
       "400              D19_KOSMETIK_RZ   \n",
       "408          D19_LEBENSMITTEL_RZ   \n",
       "416                 D19_LOTTO_RZ   \n",
       "424    D19_NAHRUNGSERGAENZUNG_RZ   \n",
       "432              D19_RATGEBER_RZ   \n",
       "440                D19_REISEN_RZ   \n",
       "448         D19_SAMMELARTIKEL_RZ   \n",
       "456                D19_SCHUHE_RZ   \n",
       "464              D19_SONSTIGE_RZ   \n",
       "472               D19_TECHNIK_RZ   \n",
       "480             D19_TELKO_ANZ_12   \n",
       "487             D19_TELKO_ANZ_24   \n",
       "503              D19_TELKO_DATUM   \n",
       "504          D19_TELKO_MOBILE_RZ   \n",
       "521      D19_TELKO_OFFLINE_DATUM   \n",
       "531       D19_TELKO_ONLINE_DATUM   \n",
       "532            D19_TELKO_REST_RZ   \n",
       "540           D19_TIERARTIKEL_RZ   \n",
       "548           D19_VERSAND_ANZ_12   \n",
       "555           D19_VERSAND_ANZ_24   \n",
       "571            D19_VERSAND_DATUM   \n",
       "581    D19_VERSAND_OFFLINE_DATUM   \n",
       "591     D19_VERSAND_ONLINE_DATUM   \n",
       "592  D19_VERSAND_ONLINE_QUOTE_12   \n",
       "603          D19_VERSAND_REST_RZ   \n",
       "611        D19_VERSICHERUNGEN_RZ   \n",
       "619             D19_VERSI_ANZ_12   \n",
       "626             D19_VERSI_ANZ_24   \n",
       "633         D19_VOLLSORTIMENT_RZ   \n",
       "641         D19_WEIN_FEINKOST_RZ   \n",
       "\n",
       "                                           description value  \\\n",
       "140   transaction activity BANKS in the last 12 months     0   \n",
       "147   transaction activity BANKS in the last 24 months     0   \n",
       "163  actuality of the last transaction for the segm...    10   \n",
       "164  transactional activity based on the product gr...     0   \n",
       "172  transactional activity based on the product gr...     0   \n",
       "180  transactional activity based on the product gr...     0   \n",
       "197  actuality of the last transaction for the segm...    10   \n",
       "207  actuality of the last transaction for the segm...    10   \n",
       "208  amount of online transactions within all trans...     0   \n",
       "219  transactional activity based on the product gr...     0   \n",
       "227  transactional activity based on the product gr...     0   \n",
       "235  transactional activity based on the product gr...     0   \n",
       "243  transactional activity based on the product gr...     0   \n",
       "251  transactional activity based on the product gr...     0   \n",
       "259  transactional activity based on the product gr...     0   \n",
       "267  transactional activity based on the product gr...     0   \n",
       "275  transactional activity based on the product gr...     0   \n",
       "283  transactional activity based on the product gr...     0   \n",
       "291  transactional activity based on the product gr...     0   \n",
       "299  transactional activity based on the product gr...     0   \n",
       "307  transaction activity TOTAL POOL in the last 12...     0   \n",
       "314  transaction activity TOTAL POOL in the last 24...     0   \n",
       "330  actuality of the last transaction with the com...    10   \n",
       "340  actuality of the last transaction with the com...    10   \n",
       "350  actuality of the last transaction with the com...    10   \n",
       "351  amount of online transactions within all trans...     0   \n",
       "362  transactional activity based on the product gr...     0   \n",
       "370  transactional activity based on the product gr...     0   \n",
       "378  transactional activity based on the product gr...     0   \n",
       "400  transactional activity based on the product gr...     0   \n",
       "408  transactional activity based on the product gr...     0   \n",
       "416  transactional activity based on the product gr...     0   \n",
       "424  transactional activity based on the product gr...     0   \n",
       "432  transactional activity based on the product gr...     0   \n",
       "440  transactional activity based on the product gr...     0   \n",
       "448  transactional activity based on the product gr...     0   \n",
       "456  transactional activity based on the product gr...     0   \n",
       "464  transactional activity based on the product gr...     0   \n",
       "472  transactional activity based on the product gr...     0   \n",
       "480   transaction activity TELCO in the last 12 months     0   \n",
       "487   transaction activity TELCO in the last 24 months     0   \n",
       "503  actuality of the last transaction for the segm...    10   \n",
       "504  transactional activity based on the product gr...     0   \n",
       "521  actuality of the last transaction for the segm...    10   \n",
       "531  actuality of the last transaction for the segm...    10   \n",
       "532  transactional activity based on the product gr...     0   \n",
       "540  transactional activity based on the product gr...     0   \n",
       "548  transaction activity MAIL-ORDER in the last 12...     0   \n",
       "555  transaction activity MAIL-ORDER in the last 24...     0   \n",
       "571  actuality of the last transaction for the segm...    10   \n",
       "581  actuality of the last transaction for the segm...    10   \n",
       "591  actuality of the last transaction for the segm...    10   \n",
       "592  amount of online transactions within all trans...     0   \n",
       "603  transactional activity based on the product gr...     0   \n",
       "611  transactional activity based on the product gr...     0   \n",
       "619  transaction activity INSURANCE in the last 12 ...     0   \n",
       "626  transaction activity INSURANCE in the last 24 ...     0   \n",
       "633  transactional activity based on the product gr...     0   \n",
       "641  transactional activity based on the product gr...     0   \n",
       "\n",
       "                                              meaning     type  \n",
       "140                             no transactions known  ordinal  \n",
       "147                             no transactions known  ordinal  \n",
       "163                             no transactions known  ordinal  \n",
       "164                              no transaction known  nominal  \n",
       "172                              no transaction known  nominal  \n",
       "180                              no transaction known  nominal  \n",
       "197                             no transactions known  ordinal  \n",
       "207                             no transactions known  ordinal  \n",
       "208  no Online-transactions within the last 12 months  ordinal  \n",
       "219                              no transaction known  nominal  \n",
       "227                              no transaction known  nominal  \n",
       "235                              no transaction known  nominal  \n",
       "243                              no transaction known  nominal  \n",
       "251                              no transaction known  nominal  \n",
       "259                              no transaction known  nominal  \n",
       "267                              no transaction known  nominal  \n",
       "275                              no transaction known  nominal  \n",
       "283                              no transaction known  nominal  \n",
       "291                              no transaction known  nominal  \n",
       "299                              no transaction known  nominal  \n",
       "307                             no transactions known  ordinal  \n",
       "314                             no transactions known  ordinal  \n",
       "330                             no transactions known  ordinal  \n",
       "340                             no transactions known  ordinal  \n",
       "350                             no transactions known  ordinal  \n",
       "351  no Online-transactions within the last 12 months  ordinal  \n",
       "362                              no transaction known  nominal  \n",
       "370                              no transaction known  nominal  \n",
       "378                              no transaction known  nominal  \n",
       "400                              no transaction known  nominal  \n",
       "408                              no transaction known  nominal  \n",
       "416                              no transaction known  nominal  \n",
       "424                              no transaction known  nominal  \n",
       "432                              no transaction known  nominal  \n",
       "440                              no transaction known  nominal  \n",
       "448                              no transaction known  nominal  \n",
       "456                              no transaction known  nominal  \n",
       "464                              no transaction known  nominal  \n",
       "472                              no transaction known  nominal  \n",
       "480                             no transactions known  ordinal  \n",
       "487                             no transactions known  ordinal  \n",
       "503                             no transactions known  ordinal  \n",
       "504                              no transaction known  nominal  \n",
       "521                             no transactions known  ordinal  \n",
       "531                             no transactions known  ordinal  \n",
       "532                              no transaction known  nominal  \n",
       "540                              no transaction known  nominal  \n",
       "548                             no transactions known  ordinal  \n",
       "555                             no transactions known  ordinal  \n",
       "571                             no transactions known  ordinal  \n",
       "581                             no transactions known  ordinal  \n",
       "591                             no transactions known  ordinal  \n",
       "592  no Online-transactions within the last 12 months  ordinal  \n",
       "603                              no transaction known  nominal  \n",
       "611                              no transaction known  nominal  \n",
       "619                             no transactions known  ordinal  \n",
       "626                             no transactions known  ordinal  \n",
       "633                              no transaction known  nominal  \n",
       "641                              no transaction known  nominal  "
      ]
     },
     "execution_count": 25,
     "metadata": {},
     "output_type": "execute_result"
    }
   ],
   "source": [
    "metadata_df[metadata_df['meaning'].str.match(r\"no.*transaction.*\")]"
   ]
  },
  {
   "cell_type": "markdown",
   "id": "54e571bd",
   "metadata": {},
   "source": [
    "Fix unknown transactions description from 'no transaction' to 'unknown':"
   ]
  },
  {
   "cell_type": "code",
   "execution_count": 26,
   "id": "10e36528",
   "metadata": {},
   "outputs": [],
   "source": [
    "metadata_df.loc[metadata_df['meaning'].str.match(r\"no.*transaction.*\"), 'meaning'] = 'unknown'"
   ]
  },
  {
   "cell_type": "markdown",
   "id": "43c533b9",
   "metadata": {},
   "source": [
    "#### Manually Fix Data for `unknown` values"
   ]
  },
  {
   "cell_type": "code",
   "execution_count": 27,
   "id": "951ab4a4",
   "metadata": {},
   "outputs": [
    {
     "data": {
      "text/html": [
       "<div>\n",
       "<style scoped>\n",
       "    .dataframe tbody tr th:only-of-type {\n",
       "        vertical-align: middle;\n",
       "    }\n",
       "\n",
       "    .dataframe tbody tr th {\n",
       "        vertical-align: top;\n",
       "    }\n",
       "\n",
       "    .dataframe thead th {\n",
       "        text-align: right;\n",
       "    }\n",
       "</style>\n",
       "<table border=\"1\" class=\"dataframe\">\n",
       "  <thead>\n",
       "    <tr style=\"text-align: right;\">\n",
       "      <th></th>\n",
       "      <th>attribute</th>\n",
       "      <th>description</th>\n",
       "      <th>value</th>\n",
       "      <th>meaning</th>\n",
       "      <th>type</th>\n",
       "    </tr>\n",
       "  </thead>\n",
       "  <tbody>\n",
       "    <tr>\n",
       "      <th>12</th>\n",
       "      <td>ALTER_HH</td>\n",
       "      <td>main age within the household</td>\n",
       "      <td>0</td>\n",
       "      <td>unknown / no main age detectable</td>\n",
       "      <td>ordinal</td>\n",
       "    </tr>\n",
       "  </tbody>\n",
       "</table>\n",
       "</div>"
      ],
      "text/plain": [
       "   attribute                    description value  \\\n",
       "12  ALTER_HH  main age within the household     0   \n",
       "\n",
       "                             meaning     type  \n",
       "12  unknown / no main age detectable  ordinal  "
      ]
     },
     "execution_count": 27,
     "metadata": {},
     "output_type": "execute_result"
    }
   ],
   "source": [
    "metadata_df.query(\"attribute in ['ALTER_HH'] and value == 0\")"
   ]
  },
  {
   "cell_type": "code",
   "execution_count": 28,
   "id": "817c0f3c",
   "metadata": {},
   "outputs": [],
   "source": [
    "metadata_df.meaning.loc[(metadata_df.attribute == 'ALTER_HH') & (metadata_df['value'] == 0)] = 'unknown'"
   ]
  },
  {
   "cell_type": "code",
   "execution_count": 29,
   "id": "ae33be1e",
   "metadata": {},
   "outputs": [
    {
     "data": {
      "text/html": [
       "<div>\n",
       "<style scoped>\n",
       "    .dataframe tbody tr th:only-of-type {\n",
       "        vertical-align: middle;\n",
       "    }\n",
       "\n",
       "    .dataframe tbody tr th {\n",
       "        vertical-align: top;\n",
       "    }\n",
       "\n",
       "    .dataframe thead th {\n",
       "        text-align: right;\n",
       "    }\n",
       "</style>\n",
       "<table border=\"1\" class=\"dataframe\">\n",
       "  <thead>\n",
       "    <tr style=\"text-align: right;\">\n",
       "      <th></th>\n",
       "      <th>attribute</th>\n",
       "      <th>description</th>\n",
       "      <th>value</th>\n",
       "      <th>meaning</th>\n",
       "      <th>type</th>\n",
       "    </tr>\n",
       "  </thead>\n",
       "  <tbody>\n",
       "    <tr>\n",
       "      <th>12</th>\n",
       "      <td>ALTER_HH</td>\n",
       "      <td>main age within the household</td>\n",
       "      <td>0</td>\n",
       "      <td>unknown</td>\n",
       "      <td>ordinal</td>\n",
       "    </tr>\n",
       "  </tbody>\n",
       "</table>\n",
       "</div>"
      ],
      "text/plain": [
       "   attribute                    description value  meaning     type\n",
       "12  ALTER_HH  main age within the household     0  unknown  ordinal"
      ]
     },
     "execution_count": 29,
     "metadata": {},
     "output_type": "execute_result"
    }
   ],
   "source": [
    "metadata_df.query(\"attribute in ['ALTER_HH'] and value == 0\")"
   ]
  },
  {
   "cell_type": "markdown",
   "id": "7973393f",
   "metadata": {},
   "source": [
    "### Print the frequency of using the values -1, 9, 0, 10 as unknown values:"
   ]
  },
  {
   "cell_type": "markdown",
   "id": "a0e0473c",
   "metadata": {},
   "source": [
    "In metadata dataset, there are many represntations of unknown values, it is one of `-1, 9, 0, 10`"
   ]
  },
  {
   "cell_type": "code",
   "execution_count": 30,
   "id": "2150901e",
   "metadata": {},
   "outputs": [
    {
     "data": {
      "text/html": [
       "<div>\n",
       "<style scoped>\n",
       "    .dataframe tbody tr th:only-of-type {\n",
       "        vertical-align: middle;\n",
       "    }\n",
       "\n",
       "    .dataframe tbody tr th {\n",
       "        vertical-align: top;\n",
       "    }\n",
       "\n",
       "    .dataframe thead th {\n",
       "        text-align: right;\n",
       "    }\n",
       "</style>\n",
       "<table border=\"1\" class=\"dataframe\">\n",
       "  <thead>\n",
       "    <tr style=\"text-align: right;\">\n",
       "      <th></th>\n",
       "      <th>code</th>\n",
       "      <th>frequency</th>\n",
       "    </tr>\n",
       "  </thead>\n",
       "  <tbody>\n",
       "    <tr>\n",
       "      <th>0</th>\n",
       "      <td>-1</td>\n",
       "      <td>230</td>\n",
       "    </tr>\n",
       "    <tr>\n",
       "      <th>1</th>\n",
       "      <td>9</td>\n",
       "      <td>75</td>\n",
       "    </tr>\n",
       "    <tr>\n",
       "      <th>2</th>\n",
       "      <td>0</td>\n",
       "      <td>66</td>\n",
       "    </tr>\n",
       "    <tr>\n",
       "      <th>3</th>\n",
       "      <td>10</td>\n",
       "      <td>12</td>\n",
       "    </tr>\n",
       "  </tbody>\n",
       "</table>\n",
       "</div>"
      ],
      "text/plain": [
       "  code  frequency\n",
       "0   -1        230\n",
       "1    9         75\n",
       "2    0         66\n",
       "3   10         12"
      ]
     },
     "execution_count": 30,
     "metadata": {},
     "output_type": "execute_result"
    }
   ],
   "source": [
    "unknown_freqs = metadata_df.query(\"meaning == 'unknown'\")['value'].value_counts().to_frame()\n",
    "unknown_freqs.reset_index(inplace=True)\n",
    "unknown_freqs.columns = ['code', 'frequency']\n",
    "unknown_freqs"
   ]
  },
  {
   "cell_type": "code",
   "execution_count": 31,
   "id": "9d3ed86f",
   "metadata": {},
   "outputs": [
    {
     "name": "stdout",
     "output_type": "stream",
     "text": [
      "None\n"
     ]
    }
   ],
   "source": [
    "save_latex_table(\n",
    "    unknown_freqs, \n",
    "    path=os.path.join(dir_tables, '01_eda-unknown-freqs.tex'),\n",
    "    caption=\"Frequency counts of unknown value numeric codes\",\n",
    "    label=\"tab:unknown-freqs\",\n",
    "    column_format='rr'\n",
    ")"
   ]
  },
  {
   "cell_type": "code",
   "execution_count": 95,
   "id": "0fd984fb",
   "metadata": {},
   "outputs": [
    {
     "data": {
      "image/png": "[encoded data removed]",
      "text/plain": [
       "<Figure size 315.915x195.246 with 1 Axes>"
      ]
     },
     "metadata": {},
     "output_type": "display_data"
    }
   ],
   "source": [
    "fig, ax = plt.subplots(figsize=set_report_fig_size(fraction=0.7))\n",
    "ax.bar(unknown_freqs['code'].astype(str), unknown_freqs['frequency']);\n",
    "ax.set(xlabel=\"Numeric code\", ylabel=\"Frequency\");\n",
    "fig.savefig(os.path.join(dir_figures, '01_eda_unknown-freqs.pdf'), backend='pgf')"
   ]
  },
  {
   "cell_type": "code",
   "execution_count": 36,
   "id": "77bc202f",
   "metadata": {},
   "outputs": [
    {
     "data": {
      "image/png": "[encoded data removed]",
      "text/plain": [
       "<Figure size 270.785x167.354 with 1 Axes>"
      ]
     },
     "metadata": {
      "needs_background": "light"
     },
     "output_type": "display_data"
    }
   ],
   "source": [
    "fig, ax = plt.subplots(figsize=set_report_fig_size(fraction=0.6))\n",
    "sns.barplot(x=unknown_freqs['code'].astype(str), y=unknown_freqs['frequency'], ax=ax);\n",
    "ax.set(xlabel=\"Numeric Code\", ylabel=\"Frequency\");\n",
    "fig.savefig(os.path.join(dir_figures, '01_eda_unknown-freqs.pdf'), backend='pgf')"
   ]
  },
  {
   "cell_type": "markdown",
   "id": "92fed7a6",
   "metadata": {},
   "source": [
    "### Save the Clean Metadata"
   ]
  },
  {
   "cell_type": "code",
   "execution_count": 52,
   "id": "926278a8",
   "metadata": {},
   "outputs": [],
   "source": [
    "# Save clean metadata file\n",
    "#metadata_df.to_csv(os.path.join(dir_data_processed, 'metadata.csv'), index=False)"
   ]
  },
  {
   "cell_type": "code",
   "execution_count": 5,
   "id": "bdffde13",
   "metadata": {},
   "outputs": [],
   "source": [
    "# Load clean metadata file\n",
    "metadata_df = pd.read_csv(os.path.join(dir_data_processed, 'metadata.csv'))"
   ]
  },
  {
   "cell_type": "markdown",
   "id": "bd7828fa",
   "metadata": {},
   "source": [
    "## Exploration of training data"
   ]
  },
  {
   "cell_type": "markdown",
   "id": "faee0d52",
   "metadata": {},
   "source": [
    "### Metadata Variables"
   ]
  },
  {
   "cell_type": "code",
   "execution_count": 6,
   "id": "e0940c9f",
   "metadata": {},
   "outputs": [],
   "source": [
    "# Process: get all attributes that have metadata\n",
    "metadata_attributes = metadata_df['attribute'].unique().tolist()\n",
    "metadata_numerical = metadata_df.query(\"type == 'numeric'\").attribute.unique().tolist()\n",
    "metadata_ordinal = metadata_df.query(\"type == 'ordinal'\").attribute.unique().tolist()\n",
    "metadata_nominal = metadata_df.query(\"type == 'nominal'\").attribute.unique().tolist()\n",
    "metadata_categorical = metadata_df[metadata_df.type.isin(['ordinal', 'nominal'])].attribute.unique().tolist()"
   ]
  },
  {
   "cell_type": "markdown",
   "id": "5123a1b2",
   "metadata": {},
   "source": [
    "### General Stats about Features and Label"
   ]
  },
  {
   "cell_type": "code",
   "execution_count": 7,
   "id": "e571e617",
   "metadata": {},
   "outputs": [
    {
     "data": {
      "text/plain": [
       "365"
      ]
     },
     "execution_count": 7,
     "metadata": {},
     "output_type": "execute_result"
    }
   ],
   "source": [
    "# Number of features excluding the response variable and LNR :\n",
    "mailout_train.shape[1] - 2"
   ]
  },
  {
   "cell_type": "markdown",
   "id": "180ce649",
   "metadata": {},
   "source": [
    "The metadata file has 314 feature entries, while the dataset contains 365 features, so there are 51 features that don't have metadata and we have to examine and validate manually."
   ]
  },
  {
   "cell_type": "markdown",
   "id": "476f7413",
   "metadata": {},
   "source": [
    "First, let's examine the data classes and their percentages"
   ]
  },
  {
   "cell_type": "code",
   "execution_count": 8,
   "id": "f8e5e49d",
   "metadata": {},
   "outputs": [
    {
     "data": {
      "text/html": [
       "<div>\n",
       "<style scoped>\n",
       "    .dataframe tbody tr th:only-of-type {\n",
       "        vertical-align: middle;\n",
       "    }\n",
       "\n",
       "    .dataframe tbody tr th {\n",
       "        vertical-align: top;\n",
       "    }\n",
       "\n",
       "    .dataframe thead th {\n",
       "        text-align: right;\n",
       "    }\n",
       "</style>\n",
       "<table border=\"1\" class=\"dataframe\">\n",
       "  <thead>\n",
       "    <tr style=\"text-align: right;\">\n",
       "      <th></th>\n",
       "      <th>response</th>\n",
       "      <th>count</th>\n",
       "      <th>percentage</th>\n",
       "    </tr>\n",
       "  </thead>\n",
       "  <tbody>\n",
       "    <tr>\n",
       "      <th>0</th>\n",
       "      <td>0</td>\n",
       "      <td>42430</td>\n",
       "      <td>98.76</td>\n",
       "    </tr>\n",
       "    <tr>\n",
       "      <th>1</th>\n",
       "      <td>1</td>\n",
       "      <td>532</td>\n",
       "      <td>1.24</td>\n",
       "    </tr>\n",
       "  </tbody>\n",
       "</table>\n",
       "</div>"
      ],
      "text/plain": [
       "   response  count  percentage\n",
       "0         0  42430       98.76\n",
       "1         1    532        1.24"
      ]
     },
     "metadata": {},
     "output_type": "display_data"
    }
   ],
   "source": [
    "ser_response_counts = mailout_train['RESPONSE'].value_counts()\n",
    "df_response_counts = pd.concat([\n",
    "                                    ser_response_counts,\n",
    "                                    np.round(ser_response_counts / ser_response_counts.sum()*100,2)\n",
    "                               ],\n",
    "                     axis=1\n",
    ")\n",
    "\n",
    "df_response_counts.reset_index(inplace=True)\n",
    "df_response_counts.columns=['response', 'count', 'percentage']\n",
    "\n",
    "display(df_response_counts)"
   ]
  },
  {
   "cell_type": "code",
   "execution_count": 9,
   "id": "cf264989",
   "metadata": {},
   "outputs": [
    {
     "name": "stdout",
     "output_type": "stream",
     "text": [
      "None\n"
     ]
    }
   ],
   "source": [
    "save_latex_table(\n",
    "    df_response_counts, \n",
    "    path=os.path.join(dir_tables, '02_eda_label-counts.tex'),\n",
    "    caption=\"Label Counts and Frequencies\",\n",
    "    label=\"tab:label-counts-freqs\",\n",
    "    formatter={('percentage'): lambda x: \"{:.2f} \\%\".format(x) }\n",
    ")\n"
   ]
  },
  {
   "cell_type": "markdown",
   "id": "32b8fc5b",
   "metadata": {},
   "source": [
    "### Fix columns that have mixed types"
   ]
  },
  {
   "cell_type": "code",
   "execution_count": 10,
   "id": "01ea5b7f",
   "metadata": {},
   "outputs": [
    {
     "data": {
      "text/plain": [
       "Index(['CAMEO_DEUG_2015', 'CAMEO_INTL_2015'], dtype='object')"
      ]
     },
     "execution_count": 10,
     "metadata": {},
     "output_type": "execute_result"
    }
   ],
   "source": [
    "# Printing the names of probelmatic columns\n",
    "mailout_train.iloc[:,[18,19]].columns"
   ]
  },
  {
   "cell_type": "code",
   "execution_count": 11,
   "id": "fdd14a14",
   "metadata": {},
   "outputs": [
    {
     "data": {
      "text/plain": [
       "array([5.0, 2.0, 7.0, 4.0, nan, 3.0, 6.0, 1.0, 8.0, 9.0, '4', '6', '2',\n",
       "       '9', '8', '7', '3', '1', '5', 'X'], dtype=object)"
      ]
     },
     "execution_count": 11,
     "metadata": {},
     "output_type": "execute_result"
    }
   ],
   "source": [
    "mailout_train.iloc[:,18].unique()"
   ]
  },
  {
   "cell_type": "code",
   "execution_count": 12,
   "id": "b3cc00cf",
   "metadata": {},
   "outputs": [
    {
     "data": {
      "text/plain": [
       "array([34.0, 32.0, 14.0, 41.0, 24.0, 33.0, nan, 25.0, 31.0, 22.0, 43.0,\n",
       "       13.0, 55.0, 23.0, 54.0, 51.0, 45.0, 12.0, 44.0, 35.0, 15.0, 52.0,\n",
       "       '23', '44', '14', '55', '51', '45', '43', '22', '54', '24', '25',\n",
       "       '13', '12', '35', '33', '41', '15', '52', '31', '32', '34', 'XX'],\n",
       "      dtype=object)"
      ]
     },
     "execution_count": 12,
     "metadata": {},
     "output_type": "execute_result"
    }
   ],
   "source": [
    "mailout_train.iloc[:,19].unique()"
   ]
  },
  {
   "cell_type": "markdown",
   "id": "c3169057",
   "metadata": {},
   "source": [
    "It is shown that these two columns have invalid values `X` and `XX` to mark unknown values, so we will replace them with nan and set the dtype of the columns to `float`"
   ]
  },
  {
   "cell_type": "code",
   "execution_count": 13,
   "id": "3bdd5f47",
   "metadata": {},
   "outputs": [],
   "source": [
    "# Process: Remove invalid entries in ['CAMEO_DEUG_2015', 'CAMEO_INTL_2015'] and change dtype to float\n",
    "mailout_train.iloc[:,18].replace('X', np.nan, inplace=True)\n",
    "mailout_train.iloc[:,19].replace('XX', np.nan, inplace=True)\n",
    "mailout_train.iloc[:,[18,19]] = mailout_train.iloc[:,[18,19]].astype('float')"
   ]
  },
  {
   "cell_type": "markdown",
   "id": "d784f026",
   "metadata": {},
   "source": [
    "### Check the cardinality of the categorical featurs (high and low cardinality)"
   ]
  },
  {
   "cell_type": "code",
   "execution_count": 14,
   "id": "88028709",
   "metadata": {},
   "outputs": [
    {
     "data": {
      "text/html": [
       "<div>\n",
       "<style scoped>\n",
       "    .dataframe tbody tr th:only-of-type {\n",
       "        vertical-align: middle;\n",
       "    }\n",
       "\n",
       "    .dataframe tbody tr th {\n",
       "        vertical-align: top;\n",
       "    }\n",
       "\n",
       "    .dataframe thead th {\n",
       "        text-align: right;\n",
       "    }\n",
       "</style>\n",
       "<table border=\"1\" class=\"dataframe\">\n",
       "  <thead>\n",
       "    <tr style=\"text-align: right;\">\n",
       "      <th></th>\n",
       "      <th>0</th>\n",
       "    </tr>\n",
       "  </thead>\n",
       "  <tbody>\n",
       "    <tr>\n",
       "      <th>LNR</th>\n",
       "      <td>42962</td>\n",
       "    </tr>\n",
       "    <tr>\n",
       "      <th>EINGEFUEGT_AM</th>\n",
       "      <td>1599</td>\n",
       "    </tr>\n",
       "    <tr>\n",
       "      <th>KBA13_ANZAHL_PKW</th>\n",
       "      <td>1230</td>\n",
       "    </tr>\n",
       "    <tr>\n",
       "      <th>ANZ_HAUSHALTE_AKTIV</th>\n",
       "      <td>175</td>\n",
       "    </tr>\n",
       "    <tr>\n",
       "      <th>ANZ_STATISTISCHE_HAUSHALTE</th>\n",
       "      <td>173</td>\n",
       "    </tr>\n",
       "    <tr>\n",
       "      <th>...</th>\n",
       "      <td>...</td>\n",
       "    </tr>\n",
       "    <tr>\n",
       "      <th>HH_DELTA_FLAG</th>\n",
       "      <td>2</td>\n",
       "    </tr>\n",
       "    <tr>\n",
       "      <th>OST_WEST_KZ</th>\n",
       "      <td>2</td>\n",
       "    </tr>\n",
       "    <tr>\n",
       "      <th>GREEN_AVANTGARDE</th>\n",
       "      <td>2</td>\n",
       "    </tr>\n",
       "    <tr>\n",
       "      <th>RESPONSE</th>\n",
       "      <td>2</td>\n",
       "    </tr>\n",
       "    <tr>\n",
       "      <th>ANREDE_KZ</th>\n",
       "      <td>2</td>\n",
       "    </tr>\n",
       "  </tbody>\n",
       "</table>\n",
       "<p>367 rows × 1 columns</p>\n",
       "</div>"
      ],
      "text/plain": [
       "                                0\n",
       "LNR                         42962\n",
       "EINGEFUEGT_AM                1599\n",
       "KBA13_ANZAHL_PKW             1230\n",
       "ANZ_HAUSHALTE_AKTIV           175\n",
       "ANZ_STATISTISCHE_HAUSHALTE    173\n",
       "...                           ...\n",
       "HH_DELTA_FLAG                   2\n",
       "OST_WEST_KZ                     2\n",
       "GREEN_AVANTGARDE                2\n",
       "RESPONSE                        2\n",
       "ANREDE_KZ                       2\n",
       "\n",
       "[367 rows x 1 columns]"
      ]
     },
     "execution_count": 14,
     "metadata": {},
     "output_type": "execute_result"
    }
   ],
   "source": [
    "mailout_train.nunique().sort_values(ascending=False).to_frame()"
   ]
  },
  {
   "cell_type": "code",
   "execution_count": 15,
   "id": "3ad05921",
   "metadata": {},
   "outputs": [],
   "source": [
    "# Process: Drop 'LNR' column as it has unique values:\n",
    "mailout_train.drop('LNR', axis=1, inplace=True)"
   ]
  },
  {
   "cell_type": "markdown",
   "id": "7ddeceea",
   "metadata": {},
   "source": [
    "### Check Dataset Columns that Don't Exist in Metadata and Vice Versa"
   ]
  },
  {
   "cell_type": "code",
   "execution_count": 16,
   "id": "1a61b54a",
   "metadata": {},
   "outputs": [
    {
     "data": {
      "text/plain": [
       "array(['AKT_DAT_KL', 'ALTERSKATEGORIE_FEIN', 'ALTER_KIND1', 'ALTER_KIND2',\n",
       "       'ALTER_KIND3', 'ALTER_KIND4', 'ANZ_KINDER',\n",
       "       'ANZ_STATISTISCHE_HAUSHALTE', 'ARBEIT', 'CAMEO_INTL_2015',\n",
       "       'CJT_KATALOGNUTZER', 'CJT_TYP_1', 'CJT_TYP_2', 'CJT_TYP_3',\n",
       "       'CJT_TYP_4', 'CJT_TYP_5', 'CJT_TYP_6', 'D19_BANKEN_DIREKT',\n",
       "       'D19_BANKEN_GROSS', 'D19_BANKEN_LOKAL', 'D19_BANKEN_REST',\n",
       "       'D19_BEKLEIDUNG_GEH', 'D19_BEKLEIDUNG_REST', 'D19_BILDUNG',\n",
       "       'D19_BIO_OEKO', 'D19_BUCH_CD', 'D19_DIGIT_SERV',\n",
       "       'D19_DROGERIEARTIKEL', 'D19_ENERGIE', 'D19_FREIZEIT', 'D19_GARTEN',\n",
       "       'D19_HANDWERK', 'D19_HAUS_DEKO', 'D19_KINDERARTIKEL',\n",
       "       'D19_KONSUMTYP_MAX', 'D19_KOSMETIK', 'D19_LEBENSMITTEL',\n",
       "       'D19_LETZTER_KAUF_BRANCHE', 'D19_LOTTO', 'D19_NAHRUNGSERGAENZUNG',\n",
       "       'D19_RATGEBER', 'D19_REISEN', 'D19_SAMMELARTIKEL', 'D19_SCHUHE',\n",
       "       'D19_SONSTIGE', 'D19_SOZIALES', 'D19_TECHNIK', 'D19_TELKO_MOBILE',\n",
       "       'D19_TELKO_ONLINE_QUOTE_12', 'D19_TELKO_REST', 'D19_TIERARTIKEL',\n",
       "       'D19_VERSAND_REST', 'D19_VERSICHERUNGEN', 'D19_VERSI_DATUM',\n",
       "       'D19_VERSI_OFFLINE_DATUM', 'D19_VERSI_ONLINE_DATUM',\n",
       "       'D19_VERSI_ONLINE_QUOTE_12', 'D19_VOLLSORTIMENT',\n",
       "       'D19_WEIN_FEINKOST', 'DSL_FLAG', 'EINGEFUEGT_AM',\n",
       "       'EINGEZOGENAM_HH_JAHR', 'EXTSEL992', 'FIRMENDICHTE', 'GEMEINDETYP',\n",
       "       'HH_DELTA_FLAG', 'KBA13_ANTG1', 'KBA13_ANTG2', 'KBA13_ANTG3',\n",
       "       'KBA13_ANTG4', 'KBA13_BAUMAX', 'KBA13_CCM_1401_2500', 'KBA13_GBZ',\n",
       "       'KBA13_HHZ', 'KBA13_KMH_210', 'KK_KUNDENTYP', 'KOMBIALTER',\n",
       "       'KONSUMZELLE', 'MOBI_RASTER', 'RESPONSE', 'RT_KEIN_ANREIZ',\n",
       "       'RT_SCHNAEPPCHEN', 'RT_UEBERGROESSE', 'SOHO_KZ', 'STRUKTURTYP',\n",
       "       'UMFELD_ALT', 'UMFELD_JUNG', 'UNGLEICHENN_FLAG',\n",
       "       'VERDICHTUNGSRAUM', 'VHA', 'VHN', 'VK_DHT4A', 'VK_DISTANZ',\n",
       "       'VK_ZG11'], dtype=object)"
      ]
     },
     "execution_count": 16,
     "metadata": {},
     "output_type": "execute_result"
    }
   ],
   "source": [
    "# Process: Columns that exist in dataset that don't have metadata:\n",
    "extra_cols_dataset = np.setdiff1d(mailout_train.columns, metadata_attributes)\n",
    "extra_cols_dataset"
   ]
  },
  {
   "cell_type": "code",
   "execution_count": 17,
   "id": "a1b13b3f",
   "metadata": {},
   "outputs": [
    {
     "data": {
      "text/plain": [
       "array(['BIP_FLAG', 'CAMEO_DEUINTL_2015', 'D19_BANKEN_DIREKT_RZ',\n",
       "       'D19_BANKEN_GROSS_RZ', 'D19_BANKEN_LOKAL_RZ', 'D19_BANKEN_REST_RZ',\n",
       "       'D19_BEKLEIDUNG_GEH_RZ', 'D19_BEKLEIDUNG_REST_RZ',\n",
       "       'D19_BILDUNG_RZ', 'D19_BIO_OEKO_RZ', 'D19_BUCH_RZ',\n",
       "       'D19_DIGIT_SERV_RZ', 'D19_DROGERIEARTIKEL_RZ', 'D19_ENERGIE_RZ',\n",
       "       'D19_FREIZEIT_RZ', 'D19_GARTEN_RZ', 'D19_HANDWERK_RZ',\n",
       "       'D19_HAUS_DEKO_RZ', 'D19_KINDERARTIKEL_RZ', 'D19_KK_KUNDENTYP',\n",
       "       'D19_KOSMETIK_RZ', 'D19_LEBENSMITTEL_RZ', 'D19_LOTTO_RZ',\n",
       "       'D19_NAHRUNGSERGAENZUNG_RZ', 'D19_RATGEBER_RZ', 'D19_REISEN_RZ',\n",
       "       'D19_SAMMELARTIKEL_RZ', 'D19_SCHUHE_RZ', 'D19_SONSTIGE_RZ',\n",
       "       'D19_TECHNIK_RZ', 'D19_TELKO_MOBILE_RZ', 'D19_TELKO_REST_RZ',\n",
       "       'D19_TIERARTIKEL_RZ', 'D19_VERSAND_REST_RZ',\n",
       "       'D19_VERSICHERUNGEN_RZ', 'D19_VOLLSORTIMENT_RZ',\n",
       "       'D19_WEIN_FEINKOST_RZ', 'GEOSCORE_KLS7', 'HAUSHALTSSTRUKTUR',\n",
       "       'KBA13_CCM_1400_2500', 'SOHO_FLAG', 'WACHSTUMSGEBIET_NB'],\n",
       "      dtype='<U27')"
      ]
     },
     "execution_count": 17,
     "metadata": {},
     "output_type": "execute_result"
    }
   ],
   "source": [
    "# Process: Columns that exist in metadata and not in the dataset:\n",
    "extra_cols_metadata = np.setdiff1d(metadata_attributes, mailout_train.columns)\n",
    "extra_cols_metadata"
   ]
  },
  {
   "cell_type": "markdown",
   "id": "99298d09",
   "metadata": {},
   "source": [
    "> It seems that some common columns between the two sets have different naming, so we rename dataset columns to match the metadata."
   ]
  },
  {
   "cell_type": "code",
   "execution_count": 18,
   "id": "ec249641",
   "metadata": {},
   "outputs": [],
   "source": [
    "# Process: Rename D19 columns in dataset exist in metadata to match metadata, suffix them with _RZ\n",
    "mailout_train.columns =  mailout_train.columns.map(\n",
    "                                                  lambda x: re.sub(r\"^(D19_.*)$\", r\"\\1_RZ\", x) \n",
    "                                                  if x in np.intersect1d([re.sub(r\"_RZ\", \"\", x) for x in extra_cols_metadata], extra_cols_dataset) \n",
    "                                                  else x\n",
    "                                                )"
   ]
  },
  {
   "cell_type": "code",
   "execution_count": 19,
   "id": "e28ded28",
   "metadata": {},
   "outputs": [],
   "source": [
    "# Quick comparison between dataset and metadata attribute range of values\n",
    "# print(mailout_train['CAMEO_INTL_2015'].value_counts().sort_index().index.to_numpy())\n",
    "# print(metadata_df.query(\"attribute == 'CAMEO_DEUINTL_2015'\")['value'].sort_values().to_numpy())"
   ]
  },
  {
   "cell_type": "code",
   "execution_count": 20,
   "id": "3284e57c",
   "metadata": {},
   "outputs": [],
   "source": [
    "# Process: Manually associate and rename columns\n",
    "mailout_train.rename(columns={\n",
    "                                'CAMEO_INTL_2015':'CAMEO_DEUINTL_2015',\n",
    "                                'KK_KUNDENTYP': 'D19_KK_KUNDENTYP',\n",
    "                                'KBA13_CCM_1401_2500': 'KBA13_CCM_1400_2500', \n",
    "                                'D19_BUCH_CD_RZ': 'D19_BUCH_RZ',\n",
    "                                'SOHO_KZ': 'SOHO_FLAG'\n",
    "                             }, \n",
    "                             inplace=True)"
   ]
  },
  {
   "cell_type": "markdown",
   "id": "d58a4d31",
   "metadata": {},
   "source": [
    "Re examining difference in features between the two sets:"
   ]
  },
  {
   "cell_type": "code",
   "execution_count": 21,
   "id": "7d2b10ad",
   "metadata": {},
   "outputs": [
    {
     "data": {
      "text/plain": [
       "array(['AKT_DAT_KL', 'ALTERSKATEGORIE_FEIN', 'ALTER_KIND1', 'ALTER_KIND2',\n",
       "       'ALTER_KIND3', 'ALTER_KIND4', 'ANZ_KINDER',\n",
       "       'ANZ_STATISTISCHE_HAUSHALTE', 'ARBEIT', 'CJT_KATALOGNUTZER',\n",
       "       'CJT_TYP_1', 'CJT_TYP_2', 'CJT_TYP_3', 'CJT_TYP_4', 'CJT_TYP_5',\n",
       "       'CJT_TYP_6', 'D19_BUCH_CD', 'D19_KONSUMTYP_MAX',\n",
       "       'D19_LETZTER_KAUF_BRANCHE', 'D19_SOZIALES',\n",
       "       'D19_TELKO_ONLINE_QUOTE_12', 'D19_VERSI_DATUM',\n",
       "       'D19_VERSI_OFFLINE_DATUM', 'D19_VERSI_ONLINE_DATUM',\n",
       "       'D19_VERSI_ONLINE_QUOTE_12', 'DSL_FLAG', 'EINGEFUEGT_AM',\n",
       "       'EINGEZOGENAM_HH_JAHR', 'EXTSEL992', 'FIRMENDICHTE', 'GEMEINDETYP',\n",
       "       'HH_DELTA_FLAG', 'KBA13_ANTG1', 'KBA13_ANTG2', 'KBA13_ANTG3',\n",
       "       'KBA13_ANTG4', 'KBA13_BAUMAX', 'KBA13_GBZ', 'KBA13_HHZ',\n",
       "       'KBA13_KMH_210', 'KOMBIALTER', 'KONSUMZELLE', 'MOBI_RASTER',\n",
       "       'RESPONSE', 'RT_KEIN_ANREIZ', 'RT_SCHNAEPPCHEN', 'RT_UEBERGROESSE',\n",
       "       'STRUKTURTYP', 'UMFELD_ALT', 'UMFELD_JUNG', 'UNGLEICHENN_FLAG',\n",
       "       'VERDICHTUNGSRAUM', 'VHA', 'VHN', 'VK_DHT4A', 'VK_DISTANZ',\n",
       "       'VK_ZG11'], dtype=object)"
      ]
     },
     "execution_count": 21,
     "metadata": {},
     "output_type": "execute_result"
    }
   ],
   "source": [
    "# Columns that exist in dataset that don't have metadata:\n",
    "np.setdiff1d(mailout_train.columns, metadata_attributes)"
   ]
  },
  {
   "cell_type": "code",
   "execution_count": 22,
   "id": "687af650",
   "metadata": {},
   "outputs": [
    {
     "data": {
      "text/plain": [
       "array(['BIP_FLAG', 'D19_BUCH_RZ', 'GEOSCORE_KLS7', 'HAUSHALTSSTRUKTUR',\n",
       "       'WACHSTUMSGEBIET_NB'], dtype='<U27')"
      ]
     },
     "execution_count": 22,
     "metadata": {},
     "output_type": "execute_result"
    }
   ],
   "source": [
    "# Columns that exist in metadata and not in the dataset:\n",
    "np.setdiff1d(metadata_attributes, mailout_train.columns)"
   ]
  },
  {
   "cell_type": "markdown",
   "id": "6dd241e0",
   "metadata": {},
   "source": [
    "Now we have 56 features (Not include `RESPONSE`) that we should manually divide into categorical and numerical features, let's try to guess column type by looking at its unique value count:"
   ]
  },
  {
   "cell_type": "code",
   "execution_count": 23,
   "id": "32331868",
   "metadata": {},
   "outputs": [
    {
     "data": {
      "text/plain": [
       "EINGEFUEGT_AM                 1599\n",
       "ANZ_STATISTISCHE_HAUSHALTE     173\n",
       "EXTSEL992                       56\n",
       "VERDICHTUNGSRAUM                46\n",
       "D19_LETZTER_KAUF_BRANCHE        35\n",
       "EINGEZOGENAM_HH_JAHR            33\n",
       "ALTERSKATEGORIE_FEIN            25\n",
       "ALTER_KIND1                     17\n",
       "ALTER_KIND2                     14\n",
       "VK_DISTANZ                      13\n",
       "ALTER_KIND3                     12\n",
       "VK_DHT4A                        11\n",
       "VK_ZG11                         11\n",
       "ALTER_KIND4                     11\n",
       "D19_VERSI_DATUM                 10\n",
       "D19_VERSI_OFFLINE_DATUM         10\n",
       "D19_VERSI_ONLINE_DATUM          10\n",
       "AKT_DAT_KL                       9\n",
       "D19_BUCH_CD                      8\n",
       "ANZ_KINDER                       7\n",
       "GEMEINDETYP                      7\n",
       "ARBEIT                           6\n",
       "MOBI_RASTER                      6\n",
       "RT_UEBERGROESSE                  6\n",
       "VHA                              6\n",
       "D19_SOZIALES                     6\n",
       "D19_KONSUMTYP_MAX                6\n",
       "KBA13_GBZ                        5\n",
       "UMFELD_JUNG                      5\n",
       "UMFELD_ALT                       5\n",
       "VHN                              5\n",
       "RT_SCHNAEPPCHEN                  5\n",
       "RT_KEIN_ANREIZ                   5\n",
       "KOMBIALTER                       5\n",
       "KBA13_KMH_210                    5\n",
       "KBA13_HHZ                        5\n",
       "CJT_TYP_4                        5\n",
       "KBA13_BAUMAX                     5\n",
       "KBA13_ANTG2                      5\n",
       "CJT_TYP_6                        5\n",
       "KBA13_ANTG1                      5\n",
       "CJT_TYP_3                        5\n",
       "FIRMENDICHTE                     5\n",
       "CJT_KATALOGNUTZER                5\n",
       "CJT_TYP_5                        5\n",
       "CJT_TYP_1                        5\n",
       "CJT_TYP_2                        5\n",
       "D19_VERSI_ONLINE_QUOTE_12        4\n",
       "KBA13_ANTG3                      4\n",
       "D19_TELKO_ONLINE_QUOTE_12        3\n",
       "STRUKTURTYP                      3\n",
       "KBA13_ANTG4                      3\n",
       "DSL_FLAG                         2\n",
       "UNGLEICHENN_FLAG                 2\n",
       "HH_DELTA_FLAG                    2\n",
       "RESPONSE                         2\n",
       "KONSUMZELLE                      2\n",
       "dtype: int64"
      ]
     },
     "execution_count": 23,
     "metadata": {},
     "output_type": "execute_result"
    }
   ],
   "source": [
    "mailout_train[np.setdiff1d(mailout_train.columns, metadata_attributes)].nunique().sort_values(ascending=False)"
   ]
  },
  {
   "cell_type": "markdown",
   "id": "78fe1a2c",
   "metadata": {},
   "source": [
    "After examining the remaining columns that don't have metadata, We can guess whaich ones are categorical and which ones are numerical"
   ]
  },
  {
   "cell_type": "code",
   "execution_count": 24,
   "id": "92d5e3a6",
   "metadata": {},
   "outputs": [],
   "source": [
    "# Process: convert `'EINGEFUEGT_AM'` column that is a date to year column.\n",
    "mailout_train['EINGEFUEGT_AM'] = mailout_train['EINGEFUEGT_AM'].astype('datetime64[ns]').dt.year"
   ]
  },
  {
   "cell_type": "code",
   "execution_count": 25,
   "id": "2294dc45",
   "metadata": {},
   "outputs": [],
   "source": [
    "# Process: extract numerical and categorical columns.\n",
    "extra_numerical = [\n",
    "                    'ALTER_KIND1', 'ALTER_KIND2', 'ALTER_KIND3', 'ALTER_KIND4', 'ANZ_STATISTISCHE_HAUSHALTE',\n",
    "                    'EINGEFUEGT_AM', 'EINGEZOGENAM_HH_JAHR', 'EXTSEL992', 'VERDICHTUNGSRAUM'\n",
    "                  ]\n",
    "extra_nominal = [\n",
    "                    'AKT_DAT_KL', 'ALTERSKATEGORIE_FEIN', 'ANZ_KINDER', 'ARBEIT', 'CJT_KATALOGNUTZER',\n",
    "                    'CJT_TYP_1', 'CJT_TYP_2', 'CJT_TYP_3', 'CJT_TYP_4', 'CJT_TYP_5', 'CJT_TYP_6',\n",
    "                    'D19_BUCH_CD', 'D19_KONSUMTYP_MAX',\n",
    "                    'D19_LETZTER_KAUF_BRANCHE', 'D19_SOZIALES',\n",
    "                    'D19_TELKO_ONLINE_QUOTE_12', 'D19_VERSI_DATUM',\n",
    "                    'D19_VERSI_OFFLINE_DATUM', 'D19_VERSI_ONLINE_DATUM',\n",
    "                    'D19_VERSI_ONLINE_QUOTE_12', 'DSL_FLAG', 'FIRMENDICHTE', 'GEMEINDETYP',\n",
    "                    'HH_DELTA_FLAG', 'KOMBIALTER', 'KONSUMZELLE', 'MOBI_RASTER',\n",
    "                    'RT_KEIN_ANREIZ', 'RT_SCHNAEPPCHEN', 'RT_UEBERGROESSE',\n",
    "                    'STRUKTURTYP', 'UMFELD_ALT', 'UMFELD_JUNG', 'UNGLEICHENN_FLAG',\n",
    "                    'VHA', 'VHN', 'VK_DHT4A', 'VK_DISTANZ', 'VK_ZG11'\n",
    "                    ]\n",
    "\n",
    "extra_ordinal = ['KBA13_ANTG1', 'KBA13_ANTG2', 'KBA13_ANTG3',\n",
    "                    'KBA13_ANTG4', 'KBA13_BAUMAX', 'KBA13_GBZ', 'KBA13_HHZ',\n",
    "                    'KBA13_KMH_210']"
   ]
  },
  {
   "cell_type": "code",
   "execution_count": 26,
   "id": "302b0806",
   "metadata": {},
   "outputs": [
    {
     "data": {
      "text/plain": [
       "56"
      ]
     },
     "execution_count": 26,
     "metadata": {},
     "output_type": "execute_result"
    }
   ],
   "source": [
    "len(extra_numerical + extra_nominal + extra_ordinal)"
   ]
  },
  {
   "cell_type": "code",
   "execution_count": 27,
   "id": "e3222ae8",
   "metadata": {},
   "outputs": [],
   "source": [
    "# Get a list of all features of the dataset before dropping any features.\n",
    "dataset_all_features = mailout_train.columns.to_list()\n",
    "dataset_all_features.remove('RESPONSE')"
   ]
  },
  {
   "cell_type": "markdown",
   "id": "4f283169",
   "metadata": {},
   "source": [
    "### Check Categorical Columns in the Dataset against Metadata Valid Ranges"
   ]
  },
  {
   "cell_type": "markdown",
   "id": "44723cf0",
   "metadata": {},
   "source": [
    "In this step we check the categorical columns in the dataset agianst the metadata valid range of values, and replace invalid values with `np.nan`"
   ]
  },
  {
   "cell_type": "code",
   "execution_count": 28,
   "id": "d1a1c371",
   "metadata": {},
   "outputs": [],
   "source": [
    "# Process: Drop unknown values from metadta frame, as all invalid values not found in metadata will be replaced by np.nan\n",
    "metadata_df.drop(metadata_df.query(\"meaning == 'unknown'\").index, inplace=True)"
   ]
  },
  {
   "cell_type": "code",
   "execution_count": 29,
   "id": "04164686",
   "metadata": {},
   "outputs": [],
   "source": [
    "def replace_invalid_values(series, metadata_df):\n",
    "    series = series.copy()\n",
    "    col_name = series.name\n",
    "    col_dtype = series.dtype\n",
    "    valid_metadata_ranges = metadata_df.query(f\"attribute == '{col_name}'\")['value'].to_numpy().astype(col_dtype)\n",
    "\n",
    "    if col_dtype == object:\n",
    "        dataset_ranges = series.fillna('NULL').unique().astype(col_dtype)\n",
    "    else:\n",
    "        dataset_ranges = series.unique().astype(col_dtype)\n",
    "\n",
    "    invalid_values = np.setdiff1d(\n",
    "                                dataset_ranges,\n",
    "                                valid_metadata_ranges\n",
    "                    )\n",
    "    series.replace(invalid_values, np.nan, inplace=True)\n",
    "    \n",
    "    return series\n"
   ]
  },
  {
   "cell_type": "code",
   "execution_count": 30,
   "id": "3faddd5b",
   "metadata": {},
   "outputs": [],
   "source": [
    "# Process: find categorical features that exist in both the dataset and metadata.\n",
    "dataset_meta_categorical = np.intersect1d(mailout_train.columns, metadata_categorical)"
   ]
  },
  {
   "cell_type": "code",
   "execution_count": 31,
   "id": "634b5af7",
   "metadata": {},
   "outputs": [],
   "source": [
    "# Process: find and replace invalid values with np.nan\n",
    "mailout_train[dataset_meta_categorical] = mailout_train[dataset_meta_categorical].apply(replace_invalid_values, metadata_df=metadata_df)"
   ]
  },
  {
   "cell_type": "code",
   "execution_count": 32,
   "id": "26f1aa1e",
   "metadata": {},
   "outputs": [
    {
     "data": {
      "text/plain": [
       "(42962, 366)"
      ]
     },
     "execution_count": 32,
     "metadata": {},
     "output_type": "execute_result"
    }
   ],
   "source": [
    "mailout_train.shape"
   ]
  },
  {
   "cell_type": "code",
   "execution_count": 33,
   "id": "f208c067",
   "metadata": {},
   "outputs": [
    {
     "data": {
      "text/plain": [
       "4262045"
      ]
     },
     "execution_count": 33,
     "metadata": {},
     "output_type": "execute_result"
    }
   ],
   "source": [
    "mailout_train.isna().sum().sum()"
   ]
  },
  {
   "cell_type": "markdown",
   "id": "c062e6d8",
   "metadata": {},
   "source": [
    "### Explore Features That Have a High Percentage of Missing Values (>30% missing)"
   ]
  },
  {
   "cell_type": "code",
   "execution_count": 34,
   "id": "dbed7ee2",
   "metadata": {},
   "outputs": [
    {
     "data": {
      "text/plain": [
       "['ALTER_KIND4',\n",
       " 'ALTER_KIND3',\n",
       " 'TITEL_KZ',\n",
       " 'D19_TELKO_ONLINE_DATUM',\n",
       " 'ALTER_KIND2',\n",
       " 'D19_BANKEN_LOKAL_RZ',\n",
       " 'D19_BANKEN_ONLINE_QUOTE_12',\n",
       " 'D19_BANKEN_OFFLINE_DATUM',\n",
       " 'D19_DIGIT_SERV_RZ',\n",
       " 'D19_TELKO_ANZ_12',\n",
       " 'ALTER_KIND1',\n",
       " 'D19_TIERARTIKEL_RZ',\n",
       " 'D19_BANKEN_ANZ_12',\n",
       " 'D19_BANKEN_REST_RZ',\n",
       " 'D19_GARTEN_RZ',\n",
       " 'D19_TELKO_ANZ_24',\n",
       " 'D19_VERSI_ANZ_12',\n",
       " 'D19_TELKO_OFFLINE_DATUM',\n",
       " 'D19_ENERGIE_RZ',\n",
       " 'D19_BANKEN_GROSS_RZ',\n",
       " 'D19_BANKEN_ANZ_24',\n",
       " 'D19_NAHRUNGSERGAENZUNG_RZ',\n",
       " 'D19_BIO_OEKO_RZ',\n",
       " 'D19_TELKO_REST_RZ',\n",
       " 'D19_FREIZEIT_RZ',\n",
       " 'D19_SCHUHE_RZ',\n",
       " 'D19_VERSI_ANZ_24',\n",
       " 'D19_LEBENSMITTEL_RZ',\n",
       " 'D19_WEIN_FEINKOST_RZ',\n",
       " 'D19_BANKEN_ONLINE_DATUM',\n",
       " 'D19_BANKEN_DIREKT_RZ',\n",
       " 'D19_DROGERIEARTIKEL_RZ',\n",
       " 'D19_VERSAND_REST_RZ',\n",
       " 'D19_TELKO_MOBILE_RZ',\n",
       " 'D19_BEKLEIDUNG_GEH_RZ',\n",
       " 'D19_RATGEBER_RZ',\n",
       " 'D19_BILDUNG_RZ',\n",
       " 'D19_BANKEN_DATUM',\n",
       " 'D19_KINDERARTIKEL_RZ',\n",
       " 'D19_TELKO_DATUM',\n",
       " 'D19_VERSAND_ONLINE_QUOTE_12',\n",
       " 'D19_VERSICHERUNGEN_RZ',\n",
       " 'D19_SAMMELARTIKEL_RZ',\n",
       " 'D19_HANDWERK_RZ',\n",
       " 'D19_GESAMT_ONLINE_QUOTE_12',\n",
       " 'D19_BEKLEIDUNG_REST_RZ',\n",
       " 'D19_KOSMETIK_RZ',\n",
       " 'D19_HAUS_DEKO_RZ',\n",
       " 'D19_REISEN_RZ',\n",
       " 'D19_LOTTO_RZ',\n",
       " 'D19_VERSAND_ANZ_12',\n",
       " 'D19_TECHNIK_RZ',\n",
       " 'D19_GESAMT_ANZ_12',\n",
       " 'D19_KK_KUNDENTYP',\n",
       " 'D19_VERSAND_ANZ_24',\n",
       " 'KBA05_BAUMAX',\n",
       " 'D19_VERSAND_ONLINE_DATUM',\n",
       " 'D19_GESAMT_ANZ_24',\n",
       " 'D19_VOLLSORTIMENT_RZ',\n",
       " 'D19_VERSAND_OFFLINE_DATUM',\n",
       " 'D19_GESAMT_ONLINE_DATUM',\n",
       " 'D19_GESAMT_OFFLINE_DATUM',\n",
       " 'AGER_TYP',\n",
       " 'EXTSEL992',\n",
       " 'D19_SONSTIGE_RZ',\n",
       " 'D19_VERSAND_DATUM',\n",
       " 'ALTER_HH']"
      ]
     },
     "execution_count": 34,
     "metadata": {},
     "output_type": "execute_result"
    }
   ],
   "source": [
    "missing_threshold = 0.3\n",
    "\n",
    "missing_columns_freqs = (mailout_train.isna().sum() / mailout_train.shape[0]).sort_values(ascending = False)\n",
    "\n",
    "missing_data_cols = missing_columns_freqs[missing_columns_freqs > missing_threshold]\n",
    "missing_data_cols.index.tolist()"
   ]
  },
  {
   "cell_type": "code",
   "execution_count": 35,
   "id": "62f41a83",
   "metadata": {},
   "outputs": [
    {
     "data": {
      "image/png": "[encoded data removed]",
      "text/plain": [
       "<Figure size 902.615x557.847 with 1 Axes>"
      ]
     },
     "metadata": {
      "needs_background": "light"
     },
     "output_type": "display_data"
    }
   ],
   "source": [
    "with mpl.rc_context(\n",
    "{\n",
    "    \"axes.labelsize\": 20,\n",
    "    \"ytick.labelsize\": 20,\n",
    "    \n",
    "}\n",
    "):\n",
    "    fig, ax = plt.subplots(figsize=set_report_fig_size(fraction=2))\n",
    "    sns.barplot(x=missing_data_cols.index, y=missing_data_cols * 100, ax=ax, palette='Set1');\n",
    "    ax.set(xlabel=\"Feature Name\", ylabel=\"Frequency of Missing Values\");\n",
    "    ax.yaxis.set_major_formatter(lambda x, pos: str(x) + '%')\n",
    "    ax.tick_params(axis='x', rotation=90);\n",
    "    fig.savefig(os.path.join(dir_figures, '03_missing-values.pdf'), backend='pgf')"
   ]
  },
  {
   "cell_type": "markdown",
   "id": "4fb927d0",
   "metadata": {},
   "source": [
    "There are 67 columns with missing values > 30%"
   ]
  },
  {
   "cell_type": "code",
   "execution_count": 36,
   "id": "af5a0f79",
   "metadata": {},
   "outputs": [],
   "source": [
    "# Drop columns that have missing > 30%\n",
    "mailout_train = mailout_train.drop(missing_data_cols.index, axis=1)"
   ]
  },
  {
   "cell_type": "code",
   "execution_count": 37,
   "id": "bba53214",
   "metadata": {},
   "outputs": [
    {
     "data": {
      "text/plain": [
       "(42962, 299)"
      ]
     },
     "execution_count": 37,
     "metadata": {},
     "output_type": "execute_result"
    }
   ],
   "source": [
    "mailout_train.shape"
   ]
  },
  {
   "cell_type": "markdown",
   "id": "0d5ac44e",
   "metadata": {},
   "source": [
    "### Explore highly correlated features"
   ]
  },
  {
   "cell_type": "code",
   "execution_count": 38,
   "id": "90d468be",
   "metadata": {},
   "outputs": [],
   "source": [
    "corr_threshold = 0.6"
   ]
  },
  {
   "cell_type": "code",
   "execution_count": 39,
   "id": "256af02a",
   "metadata": {},
   "outputs": [],
   "source": [
    "correlation_matrix = mailout_train[\n",
    "    np.intersect1d(mailout_train.columns, metadata_ordinal + metadata_numerical + extra_ordinal + extra_numerical)\n",
    "].corr().abs()"
   ]
  },
  {
   "cell_type": "code",
   "execution_count": 40,
   "id": "b1bd4e20",
   "metadata": {},
   "outputs": [
    {
     "data": {
      "text/html": [
       "<div>\n",
       "<style scoped>\n",
       "    .dataframe tbody tr th:only-of-type {\n",
       "        vertical-align: middle;\n",
       "    }\n",
       "\n",
       "    .dataframe tbody tr th {\n",
       "        vertical-align: top;\n",
       "    }\n",
       "\n",
       "    .dataframe thead th {\n",
       "        text-align: right;\n",
       "    }\n",
       "</style>\n",
       "<table border=\"1\" class=\"dataframe\">\n",
       "  <thead>\n",
       "    <tr style=\"text-align: right;\">\n",
       "      <th></th>\n",
       "      <th>ANZ_HAUSHALTE_AKTIV</th>\n",
       "      <th>ANZ_HH_TITEL</th>\n",
       "      <th>ANZ_PERSONEN</th>\n",
       "      <th>ANZ_STATISTISCHE_HAUSHALTE</th>\n",
       "      <th>ANZ_TITEL</th>\n",
       "      <th>BALLRAUM</th>\n",
       "      <th>D19_GESAMT_DATUM</th>\n",
       "      <th>EINGEFUEGT_AM</th>\n",
       "      <th>EINGEZOGENAM_HH_JAHR</th>\n",
       "      <th>EWDICHTE</th>\n",
       "      <th>...</th>\n",
       "      <th>SEMIO_PFLICHT</th>\n",
       "      <th>SEMIO_RAT</th>\n",
       "      <th>SEMIO_REL</th>\n",
       "      <th>SEMIO_SOZ</th>\n",
       "      <th>SEMIO_TRADV</th>\n",
       "      <th>SEMIO_VERT</th>\n",
       "      <th>VERDICHTUNGSRAUM</th>\n",
       "      <th>WOHNDAUER_2008</th>\n",
       "      <th>WOHNLAGE</th>\n",
       "      <th>W_KEIT_KIND_HH</th>\n",
       "    </tr>\n",
       "  </thead>\n",
       "  <tbody>\n",
       "    <tr>\n",
       "      <th>ANZ_HAUSHALTE_AKTIV</th>\n",
       "      <td>1.000000</td>\n",
       "      <td>0.495912</td>\n",
       "      <td>0.130954</td>\n",
       "      <td>0.990089</td>\n",
       "      <td>0.001073</td>\n",
       "      <td>0.220637</td>\n",
       "      <td>0.085777</td>\n",
       "      <td>0.026716</td>\n",
       "      <td>0.118230</td>\n",
       "      <td>0.276100</td>\n",
       "      <td>...</td>\n",
       "      <td>0.044310</td>\n",
       "      <td>0.022660</td>\n",
       "      <td>0.053701</td>\n",
       "      <td>0.028584</td>\n",
       "      <td>0.048910</td>\n",
       "      <td>0.072203</td>\n",
       "      <td>0.054003</td>\n",
       "      <td>0.088016</td>\n",
       "      <td>0.084513</td>\n",
       "      <td>0.119335</td>\n",
       "    </tr>\n",
       "    <tr>\n",
       "      <th>ANZ_HH_TITEL</th>\n",
       "      <td>0.495912</td>\n",
       "      <td>1.000000</td>\n",
       "      <td>0.040457</td>\n",
       "      <td>0.512164</td>\n",
       "      <td>0.263144</td>\n",
       "      <td>0.085969</td>\n",
       "      <td>0.018996</td>\n",
       "      <td>0.002394</td>\n",
       "      <td>0.068625</td>\n",
       "      <td>0.098551</td>\n",
       "      <td>...</td>\n",
       "      <td>0.022681</td>\n",
       "      <td>0.002400</td>\n",
       "      <td>0.015859</td>\n",
       "      <td>0.019537</td>\n",
       "      <td>0.012009</td>\n",
       "      <td>0.024877</td>\n",
       "      <td>0.020127</td>\n",
       "      <td>0.055677</td>\n",
       "      <td>0.041208</td>\n",
       "      <td>0.034458</td>\n",
       "    </tr>\n",
       "    <tr>\n",
       "      <th>ANZ_PERSONEN</th>\n",
       "      <td>0.130954</td>\n",
       "      <td>0.040457</td>\n",
       "      <td>1.000000</td>\n",
       "      <td>0.134667</td>\n",
       "      <td>0.039925</td>\n",
       "      <td>0.130304</td>\n",
       "      <td>0.337653</td>\n",
       "      <td>0.007940</td>\n",
       "      <td>0.165871</td>\n",
       "      <td>0.179151</td>\n",
       "      <td>...</td>\n",
       "      <td>0.108126</td>\n",
       "      <td>0.095736</td>\n",
       "      <td>0.124704</td>\n",
       "      <td>0.037836</td>\n",
       "      <td>0.115093</td>\n",
       "      <td>0.070132</td>\n",
       "      <td>0.035926</td>\n",
       "      <td>0.122542</td>\n",
       "      <td>0.091926</td>\n",
       "      <td>0.622053</td>\n",
       "    </tr>\n",
       "    <tr>\n",
       "      <th>ANZ_STATISTISCHE_HAUSHALTE</th>\n",
       "      <td>0.990089</td>\n",
       "      <td>0.512164</td>\n",
       "      <td>0.134667</td>\n",
       "      <td>1.000000</td>\n",
       "      <td>0.000489</td>\n",
       "      <td>0.211770</td>\n",
       "      <td>0.088777</td>\n",
       "      <td>0.022874</td>\n",
       "      <td>0.122727</td>\n",
       "      <td>0.266411</td>\n",
       "      <td>...</td>\n",
       "      <td>0.046297</td>\n",
       "      <td>0.025087</td>\n",
       "      <td>0.055933</td>\n",
       "      <td>0.026333</td>\n",
       "      <td>0.051800</td>\n",
       "      <td>0.072741</td>\n",
       "      <td>0.051867</td>\n",
       "      <td>0.090410</td>\n",
       "      <td>0.082135</td>\n",
       "      <td>0.119325</td>\n",
       "    </tr>\n",
       "    <tr>\n",
       "      <th>ANZ_TITEL</th>\n",
       "      <td>0.001073</td>\n",
       "      <td>0.263144</td>\n",
       "      <td>0.039925</td>\n",
       "      <td>0.000489</td>\n",
       "      <td>1.000000</td>\n",
       "      <td>0.019323</td>\n",
       "      <td>0.025313</td>\n",
       "      <td>0.007455</td>\n",
       "      <td>0.004296</td>\n",
       "      <td>0.019768</td>\n",
       "      <td>...</td>\n",
       "      <td>0.003010</td>\n",
       "      <td>0.001578</td>\n",
       "      <td>0.024845</td>\n",
       "      <td>0.018082</td>\n",
       "      <td>0.014076</td>\n",
       "      <td>0.023687</td>\n",
       "      <td>0.013876</td>\n",
       "      <td>0.013188</td>\n",
       "      <td>0.025795</td>\n",
       "      <td>0.006426</td>\n",
       "    </tr>\n",
       "    <tr>\n",
       "      <th>...</th>\n",
       "      <td>...</td>\n",
       "      <td>...</td>\n",
       "      <td>...</td>\n",
       "      <td>...</td>\n",
       "      <td>...</td>\n",
       "      <td>...</td>\n",
       "      <td>...</td>\n",
       "      <td>...</td>\n",
       "      <td>...</td>\n",
       "      <td>...</td>\n",
       "      <td>...</td>\n",
       "      <td>...</td>\n",
       "      <td>...</td>\n",
       "      <td>...</td>\n",
       "      <td>...</td>\n",
       "      <td>...</td>\n",
       "      <td>...</td>\n",
       "      <td>...</td>\n",
       "      <td>...</td>\n",
       "      <td>...</td>\n",
       "      <td>...</td>\n",
       "    </tr>\n",
       "    <tr>\n",
       "      <th>SEMIO_VERT</th>\n",
       "      <td>0.072203</td>\n",
       "      <td>0.024877</td>\n",
       "      <td>0.070132</td>\n",
       "      <td>0.072741</td>\n",
       "      <td>0.023687</td>\n",
       "      <td>0.073882</td>\n",
       "      <td>0.025370</td>\n",
       "      <td>0.054991</td>\n",
       "      <td>0.080143</td>\n",
       "      <td>0.074793</td>\n",
       "      <td>...</td>\n",
       "      <td>0.336298</td>\n",
       "      <td>0.382651</td>\n",
       "      <td>0.243654</td>\n",
       "      <td>0.574502</td>\n",
       "      <td>0.002393</td>\n",
       "      <td>1.000000</td>\n",
       "      <td>0.001774</td>\n",
       "      <td>0.035859</td>\n",
       "      <td>0.031029</td>\n",
       "      <td>0.018641</td>\n",
       "    </tr>\n",
       "    <tr>\n",
       "      <th>VERDICHTUNGSRAUM</th>\n",
       "      <td>0.054003</td>\n",
       "      <td>0.020127</td>\n",
       "      <td>0.035926</td>\n",
       "      <td>0.051867</td>\n",
       "      <td>0.013876</td>\n",
       "      <td>0.064530</td>\n",
       "      <td>0.029043</td>\n",
       "      <td>0.029016</td>\n",
       "      <td>0.012417</td>\n",
       "      <td>0.292045</td>\n",
       "      <td>...</td>\n",
       "      <td>0.014140</td>\n",
       "      <td>0.009861</td>\n",
       "      <td>0.002211</td>\n",
       "      <td>0.022887</td>\n",
       "      <td>0.013498</td>\n",
       "      <td>0.001774</td>\n",
       "      <td>1.000000</td>\n",
       "      <td>0.009260</td>\n",
       "      <td>0.151177</td>\n",
       "      <td>0.032907</td>\n",
       "    </tr>\n",
       "    <tr>\n",
       "      <th>WOHNDAUER_2008</th>\n",
       "      <td>0.088016</td>\n",
       "      <td>0.055677</td>\n",
       "      <td>0.122542</td>\n",
       "      <td>0.090410</td>\n",
       "      <td>0.013188</td>\n",
       "      <td>0.031737</td>\n",
       "      <td>0.010724</td>\n",
       "      <td>0.165166</td>\n",
       "      <td>0.658516</td>\n",
       "      <td>0.044517</td>\n",
       "      <td>...</td>\n",
       "      <td>0.045167</td>\n",
       "      <td>0.043363</td>\n",
       "      <td>0.021035</td>\n",
       "      <td>0.033132</td>\n",
       "      <td>0.023724</td>\n",
       "      <td>0.035859</td>\n",
       "      <td>0.009260</td>\n",
       "      <td>1.000000</td>\n",
       "      <td>0.022871</td>\n",
       "      <td>0.039839</td>\n",
       "    </tr>\n",
       "    <tr>\n",
       "      <th>WOHNLAGE</th>\n",
       "      <td>0.084513</td>\n",
       "      <td>0.041208</td>\n",
       "      <td>0.091926</td>\n",
       "      <td>0.082135</td>\n",
       "      <td>0.025795</td>\n",
       "      <td>0.332363</td>\n",
       "      <td>0.066946</td>\n",
       "      <td>0.078421</td>\n",
       "      <td>0.000595</td>\n",
       "      <td>0.564059</td>\n",
       "      <td>...</td>\n",
       "      <td>0.023817</td>\n",
       "      <td>0.032319</td>\n",
       "      <td>0.048064</td>\n",
       "      <td>0.034361</td>\n",
       "      <td>0.034121</td>\n",
       "      <td>0.031029</td>\n",
       "      <td>0.151177</td>\n",
       "      <td>0.022871</td>\n",
       "      <td>1.000000</td>\n",
       "      <td>0.090428</td>\n",
       "    </tr>\n",
       "    <tr>\n",
       "      <th>W_KEIT_KIND_HH</th>\n",
       "      <td>0.119335</td>\n",
       "      <td>0.034458</td>\n",
       "      <td>0.622053</td>\n",
       "      <td>0.119325</td>\n",
       "      <td>0.006426</td>\n",
       "      <td>0.104043</td>\n",
       "      <td>0.305088</td>\n",
       "      <td>0.056120</td>\n",
       "      <td>0.018290</td>\n",
       "      <td>0.161391</td>\n",
       "      <td>...</td>\n",
       "      <td>0.181021</td>\n",
       "      <td>0.186146</td>\n",
       "      <td>0.154057</td>\n",
       "      <td>0.007254</td>\n",
       "      <td>0.169232</td>\n",
       "      <td>0.018641</td>\n",
       "      <td>0.032907</td>\n",
       "      <td>0.039839</td>\n",
       "      <td>0.090428</td>\n",
       "      <td>1.000000</td>\n",
       "    </tr>\n",
       "  </tbody>\n",
       "</table>\n",
       "<p>231 rows × 231 columns</p>\n",
       "</div>"
      ],
      "text/plain": [
       "                            ANZ_HAUSHALTE_AKTIV  ANZ_HH_TITEL  ANZ_PERSONEN  \\\n",
       "ANZ_HAUSHALTE_AKTIV                    1.000000      0.495912      0.130954   \n",
       "ANZ_HH_TITEL                           0.495912      1.000000      0.040457   \n",
       "ANZ_PERSONEN                           0.130954      0.040457      1.000000   \n",
       "ANZ_STATISTISCHE_HAUSHALTE             0.990089      0.512164      0.134667   \n",
       "ANZ_TITEL                              0.001073      0.263144      0.039925   \n",
       "...                                         ...           ...           ...   \n",
       "SEMIO_VERT                             0.072203      0.024877      0.070132   \n",
       "VERDICHTUNGSRAUM                       0.054003      0.020127      0.035926   \n",
       "WOHNDAUER_2008                         0.088016      0.055677      0.122542   \n",
       "WOHNLAGE                               0.084513      0.041208      0.091926   \n",
       "W_KEIT_KIND_HH                         0.119335      0.034458      0.622053   \n",
       "\n",
       "                            ANZ_STATISTISCHE_HAUSHALTE  ANZ_TITEL  BALLRAUM  \\\n",
       "ANZ_HAUSHALTE_AKTIV                           0.990089   0.001073  0.220637   \n",
       "ANZ_HH_TITEL                                  0.512164   0.263144  0.085969   \n",
       "ANZ_PERSONEN                                  0.134667   0.039925  0.130304   \n",
       "ANZ_STATISTISCHE_HAUSHALTE                    1.000000   0.000489  0.211770   \n",
       "ANZ_TITEL                                     0.000489   1.000000  0.019323   \n",
       "...                                                ...        ...       ...   \n",
       "SEMIO_VERT                                    0.072741   0.023687  0.073882   \n",
       "VERDICHTUNGSRAUM                              0.051867   0.013876  0.064530   \n",
       "WOHNDAUER_2008                                0.090410   0.013188  0.031737   \n",
       "WOHNLAGE                                      0.082135   0.025795  0.332363   \n",
       "W_KEIT_KIND_HH                                0.119325   0.006426  0.104043   \n",
       "\n",
       "                            D19_GESAMT_DATUM  EINGEFUEGT_AM  \\\n",
       "ANZ_HAUSHALTE_AKTIV                 0.085777       0.026716   \n",
       "ANZ_HH_TITEL                        0.018996       0.002394   \n",
       "ANZ_PERSONEN                        0.337653       0.007940   \n",
       "ANZ_STATISTISCHE_HAUSHALTE          0.088777       0.022874   \n",
       "ANZ_TITEL                           0.025313       0.007455   \n",
       "...                                      ...            ...   \n",
       "SEMIO_VERT                          0.025370       0.054991   \n",
       "VERDICHTUNGSRAUM                    0.029043       0.029016   \n",
       "WOHNDAUER_2008                      0.010724       0.165166   \n",
       "WOHNLAGE                            0.066946       0.078421   \n",
       "W_KEIT_KIND_HH                      0.305088       0.056120   \n",
       "\n",
       "                            EINGEZOGENAM_HH_JAHR  EWDICHTE  ...  \\\n",
       "ANZ_HAUSHALTE_AKTIV                     0.118230  0.276100  ...   \n",
       "ANZ_HH_TITEL                            0.068625  0.098551  ...   \n",
       "ANZ_PERSONEN                            0.165871  0.179151  ...   \n",
       "ANZ_STATISTISCHE_HAUSHALTE              0.122727  0.266411  ...   \n",
       "ANZ_TITEL                               0.004296  0.019768  ...   \n",
       "...                                          ...       ...  ...   \n",
       "SEMIO_VERT                              0.080143  0.074793  ...   \n",
       "VERDICHTUNGSRAUM                        0.012417  0.292045  ...   \n",
       "WOHNDAUER_2008                          0.658516  0.044517  ...   \n",
       "WOHNLAGE                                0.000595  0.564059  ...   \n",
       "W_KEIT_KIND_HH                          0.018290  0.161391  ...   \n",
       "\n",
       "                            SEMIO_PFLICHT  SEMIO_RAT  SEMIO_REL  SEMIO_SOZ  \\\n",
       "ANZ_HAUSHALTE_AKTIV              0.044310   0.022660   0.053701   0.028584   \n",
       "ANZ_HH_TITEL                     0.022681   0.002400   0.015859   0.019537   \n",
       "ANZ_PERSONEN                     0.108126   0.095736   0.124704   0.037836   \n",
       "ANZ_STATISTISCHE_HAUSHALTE       0.046297   0.025087   0.055933   0.026333   \n",
       "ANZ_TITEL                        0.003010   0.001578   0.024845   0.018082   \n",
       "...                                   ...        ...        ...        ...   \n",
       "SEMIO_VERT                       0.336298   0.382651   0.243654   0.574502   \n",
       "VERDICHTUNGSRAUM                 0.014140   0.009861   0.002211   0.022887   \n",
       "WOHNDAUER_2008                   0.045167   0.043363   0.021035   0.033132   \n",
       "WOHNLAGE                         0.023817   0.032319   0.048064   0.034361   \n",
       "W_KEIT_KIND_HH                   0.181021   0.186146   0.154057   0.007254   \n",
       "\n",
       "                            SEMIO_TRADV  SEMIO_VERT  VERDICHTUNGSRAUM  \\\n",
       "ANZ_HAUSHALTE_AKTIV            0.048910    0.072203          0.054003   \n",
       "ANZ_HH_TITEL                   0.012009    0.024877          0.020127   \n",
       "ANZ_PERSONEN                   0.115093    0.070132          0.035926   \n",
       "ANZ_STATISTISCHE_HAUSHALTE     0.051800    0.072741          0.051867   \n",
       "ANZ_TITEL                      0.014076    0.023687          0.013876   \n",
       "...                                 ...         ...               ...   \n",
       "SEMIO_VERT                     0.002393    1.000000          0.001774   \n",
       "VERDICHTUNGSRAUM               0.013498    0.001774          1.000000   \n",
       "WOHNDAUER_2008                 0.023724    0.035859          0.009260   \n",
       "WOHNLAGE                       0.034121    0.031029          0.151177   \n",
       "W_KEIT_KIND_HH                 0.169232    0.018641          0.032907   \n",
       "\n",
       "                            WOHNDAUER_2008  WOHNLAGE  W_KEIT_KIND_HH  \n",
       "ANZ_HAUSHALTE_AKTIV               0.088016  0.084513        0.119335  \n",
       "ANZ_HH_TITEL                      0.055677  0.041208        0.034458  \n",
       "ANZ_PERSONEN                      0.122542  0.091926        0.622053  \n",
       "ANZ_STATISTISCHE_HAUSHALTE        0.090410  0.082135        0.119325  \n",
       "ANZ_TITEL                         0.013188  0.025795        0.006426  \n",
       "...                                    ...       ...             ...  \n",
       "SEMIO_VERT                        0.035859  0.031029        0.018641  \n",
       "VERDICHTUNGSRAUM                  0.009260  0.151177        0.032907  \n",
       "WOHNDAUER_2008                    1.000000  0.022871        0.039839  \n",
       "WOHNLAGE                          0.022871  1.000000        0.090428  \n",
       "W_KEIT_KIND_HH                    0.039839  0.090428        1.000000  \n",
       "\n",
       "[231 rows x 231 columns]"
      ]
     },
     "execution_count": 40,
     "metadata": {},
     "output_type": "execute_result"
    }
   ],
   "source": [
    "correlation_matrix"
   ]
  },
  {
   "cell_type": "code",
   "execution_count": 41,
   "id": "9d19c80e",
   "metadata": {},
   "outputs": [],
   "source": [
    "# Select upper triangle of correlation matrix\n",
    "upper_corr_mat = correlation_matrix.where(\n",
    "    np.triu(np.ones(correlation_matrix.shape), k=1).astype(bool))"
   ]
  },
  {
   "cell_type": "code",
   "execution_count": 42,
   "id": "4aa92e47",
   "metadata": {},
   "outputs": [],
   "source": [
    "corr_to_drop = upper_corr_mat.columns[(upper_corr_mat > corr_threshold).any(axis='rows')].tolist()\n",
    "#corr_to_drop = upper_corr_mat.index[(upper_corr_mat > corr_threshold).any(axis='columns')].tolist()"
   ]
  },
  {
   "cell_type": "code",
   "execution_count": 43,
   "id": "4587261a",
   "metadata": {},
   "outputs": [
    {
     "data": {
      "image/png": "[encoded data removed]",
      "text/plain": [
       "<Figure size 902.615x792 with 2 Axes>"
      ]
     },
     "metadata": {
      "needs_background": "light"
     },
     "output_type": "display_data"
    }
   ],
   "source": [
    "# Draw a heat map for features that have > 0.75 correlation\n",
    "heatmap_rows = upper_corr_mat.columns[(upper_corr_mat > 0.75).any(axis='rows')].tolist()\n",
    "heatmap_cols = upper_corr_mat.index[(upper_corr_mat > 0.75).any(axis='columns')].tolist()\n",
    "heatmap = correlation_matrix.loc[heatmap_rows,heatmap_cols]\n",
    "\n",
    "\n",
    "fig, ax = plt.subplots(figsize=(2 * set_report_fig_size(fraction=1)[0], 2 *  5.5))\n",
    "ax = sns.heatmap(heatmap, center=0.5, linewidths=.5, ax=ax, cbar_kws={'aspect':40})\n",
    "fig.savefig(os.path.join(dir_figures, '04_correlation-heatmap.pdf'), backend='pgf')"
   ]
  },
  {
   "cell_type": "code",
   "execution_count": 44,
   "id": "86118ae4",
   "metadata": {},
   "outputs": [],
   "source": [
    "# Drop correlated features\n",
    "mailout_train = mailout_train.drop(corr_to_drop, axis=1)"
   ]
  },
  {
   "cell_type": "code",
   "execution_count": 45,
   "id": "c9b59a95",
   "metadata": {},
   "outputs": [
    {
     "data": {
      "text/plain": [
       "(42962, 201)"
      ]
     },
     "execution_count": 45,
     "metadata": {},
     "output_type": "execute_result"
    }
   ],
   "source": [
    "mailout_train.shape"
   ]
  },
  {
   "cell_type": "markdown",
   "id": "b7d90a37",
   "metadata": {},
   "source": [
    "### Find and Drop Duplicated Rows"
   ]
  },
  {
   "cell_type": "code",
   "execution_count": 46,
   "id": "f540bf13",
   "metadata": {},
   "outputs": [],
   "source": [
    "missing_mean = mailout_train.duplicated().mean()"
   ]
  },
  {
   "cell_type": "code",
   "execution_count": 47,
   "id": "c4e80754",
   "metadata": {},
   "outputs": [
    {
     "name": "stdout",
     "output_type": "stream",
     "text": [
      "Percentage of duplicated rows: 13.41%\n"
     ]
    }
   ],
   "source": [
    "print(\"Percentage of duplicated rows: {:.2f}%\".format(missing_mean * 100))"
   ]
  },
  {
   "cell_type": "code",
   "execution_count": 48,
   "id": "fbac7476",
   "metadata": {},
   "outputs": [
    {
     "data": {
      "image/png": "[encoded data removed]",
      "text/plain": [
       "<Figure size 225.654x139.462 with 1 Axes>"
      ]
     },
     "metadata": {},
     "output_type": "display_data"
    }
   ],
   "source": [
    "labels = 'Unique Rows', 'Duplicated Rows'\n",
    "sizes = [1 - missing_mean, missing_mean]\n",
    "explode = (0, 0.1)  # only \"explode\" the 2nd slice (i.e. 'Hogs')\n",
    "\n",
    "fig, ax = plt.subplots(figsize=set_report_fig_size(fraction=.5))\n",
    "ax.pie(sizes, explode=explode, labels=labels, autopct=r\"%1.2f%%\",\n",
    "        shadow=True, startangle=90)\n",
    "ax.axis('equal')  # Equal aspect ratio ensures that pie is drawn as a circle.\n",
    "fig.savefig(os.path.join(dir_figures, '05_eda_missing-rows.pdf'), format='pdf', bbox_inches='tight')"
   ]
  },
  {
   "cell_type": "code",
   "execution_count": 49,
   "id": "6b59c7ff",
   "metadata": {},
   "outputs": [],
   "source": [
    "# Drop duplicate rows\n",
    "mailout_train.drop_duplicates(inplace=True)"
   ]
  },
  {
   "cell_type": "markdown",
   "id": "845bd6ec",
   "metadata": {},
   "source": [
    "### Find and Remove outliers"
   ]
  },
  {
   "cell_type": "code",
   "execution_count": 50,
   "id": "15e3823b",
   "metadata": {},
   "outputs": [],
   "source": [
    "def get_outliers(s):\n",
    "    mean , std = s.mean(), s.std()\n",
    "    cutoff = 3 * std \n",
    "    return ~ s.between(mean - cutoff, mean + cutoff) # a series that has True in place of outliers"
   ]
  },
  {
   "cell_type": "code",
   "execution_count": 51,
   "id": "48643fde",
   "metadata": {},
   "outputs": [],
   "source": [
    "numerical_df = mailout_train[np.intersect1d(mailout_train.columns, metadata_numerical + extra_numerical)]"
   ]
  },
  {
   "cell_type": "code",
   "execution_count": 52,
   "id": "edbae0cd",
   "metadata": {
    "scrolled": true
   },
   "outputs": [
    {
     "data": {
      "text/html": [
       "<div>\n",
       "<style scoped>\n",
       "    .dataframe tbody tr th:only-of-type {\n",
       "        vertical-align: middle;\n",
       "    }\n",
       "\n",
       "    .dataframe tbody tr th {\n",
       "        vertical-align: top;\n",
       "    }\n",
       "\n",
       "    .dataframe thead th {\n",
       "        text-align: right;\n",
       "    }\n",
       "</style>\n",
       "<table border=\"1\" class=\"dataframe\">\n",
       "  <thead>\n",
       "    <tr style=\"text-align: right;\">\n",
       "      <th></th>\n",
       "      <th>feature</th>\n",
       "      <th>percentage of outliers</th>\n",
       "    </tr>\n",
       "  </thead>\n",
       "  <tbody>\n",
       "    <tr>\n",
       "      <th>0</th>\n",
       "      <td>ANZ_HAUSHALTE_AKTIV</td>\n",
       "      <td>6.806452</td>\n",
       "    </tr>\n",
       "    <tr>\n",
       "      <th>1</th>\n",
       "      <td>ANZ_HH_TITEL</td>\n",
       "      <td>7.198925</td>\n",
       "    </tr>\n",
       "    <tr>\n",
       "      <th>2</th>\n",
       "      <td>ANZ_PERSONEN</td>\n",
       "      <td>3.881720</td>\n",
       "    </tr>\n",
       "    <tr>\n",
       "      <th>3</th>\n",
       "      <td>ANZ_TITEL</td>\n",
       "      <td>4.107527</td>\n",
       "    </tr>\n",
       "    <tr>\n",
       "      <th>4</th>\n",
       "      <td>EINGEFUEGT_AM</td>\n",
       "      <td>9.379032</td>\n",
       "    </tr>\n",
       "    <tr>\n",
       "      <th>5</th>\n",
       "      <td>EINGEZOGENAM_HH_JAHR</td>\n",
       "      <td>3.338710</td>\n",
       "    </tr>\n",
       "    <tr>\n",
       "      <th>6</th>\n",
       "      <td>GEBURTSJAHR</td>\n",
       "      <td>0.000000</td>\n",
       "    </tr>\n",
       "    <tr>\n",
       "      <th>7</th>\n",
       "      <td>KBA13_ANZAHL_PKW</td>\n",
       "      <td>7.247312</td>\n",
       "    </tr>\n",
       "    <tr>\n",
       "      <th>8</th>\n",
       "      <td>VERDICHTUNGSRAUM</td>\n",
       "      <td>9.271505</td>\n",
       "    </tr>\n",
       "  </tbody>\n",
       "</table>\n",
       "</div>"
      ],
      "text/plain": [
       "                feature  percentage of outliers\n",
       "0   ANZ_HAUSHALTE_AKTIV                6.806452\n",
       "1          ANZ_HH_TITEL                7.198925\n",
       "2          ANZ_PERSONEN                3.881720\n",
       "3             ANZ_TITEL                4.107527\n",
       "4         EINGEFUEGT_AM                9.379032\n",
       "5  EINGEZOGENAM_HH_JAHR                3.338710\n",
       "6           GEBURTSJAHR                0.000000\n",
       "7      KBA13_ANZAHL_PKW                7.247312\n",
       "8      VERDICHTUNGSRAUM                9.271505"
      ]
     },
     "metadata": {},
     "output_type": "display_data"
    },
    {
     "name": "stdout",
     "output_type": "stream",
     "text": [
      "None\n"
     ]
    }
   ],
   "source": [
    "outlier_percent_per_feature = (numerical_df.apply(get_outliers).sum() / numerical_df.shape[0] * 100)\\\n",
    "                                .to_frame()\\\n",
    "                                .reset_index()\\\n",
    "                                .rename({'index': 'feature', 0: 'percentage of outliers'}, axis=1)\n",
    "\n",
    "display(outlier_percent_per_feature)\n",
    "\n",
    "save_latex_table(\n",
    "    outlier_percent_per_feature, \n",
    "    path=os.path.join(dir_tables, '03_eda_outlier-percent-per-feature.tex'),\n",
    "    caption=\"Percentage of outliers for each numerical feature\",\n",
    "    label=\"tab:outlier-percent\",\n",
    "    formatter={\n",
    "        ('percentage of outliers'): lambda x: \"{:.2f}\\%\".format(x),\n",
    "        ('feature'): lambda x: x.replace(\"_\", \"\\_\")\n",
    "    }\n",
    ")"
   ]
  },
  {
   "cell_type": "code",
   "execution_count": 97,
   "id": "cbe090a5",
   "metadata": {},
   "outputs": [
    {
     "data": {
      "image/png": "[encoded data removed]",
      "text/plain": [
       "<Figure size 451.308x697.309 with 10 Axes>"
      ]
     },
     "metadata": {
      "needs_background": "light"
     },
     "output_type": "display_data"
    }
   ],
   "source": [
    "set_bar_color = np.vectorize(lambda x: x.set_color('red'))\n",
    "\n",
    "fig, ax = plt.subplots(5,2,figsize=set_report_fig_size(fraction=1,subplots=(5, 2)))\n",
    "for i, (name, s) in enumerate(numerical_df.iteritems()):\n",
    "    mean, std = s.mean(), s.std()\n",
    "    cutoff_min, cutoff_max = mean - 3 * std, mean + 3 * std\n",
    "    \n",
    "    sub_ax = ax.flatten()[i]\n",
    "    frqs, bins, bars = sub_ax.hist(s, bins=50);\n",
    "\n",
    "    outlier_bars = np.logical_or(bins > cutoff_max, bins < cutoff_min)[:-1]\n",
    "    if outlier_bars.any():\n",
    "        set_bar_color(np.array(bars)[outlier_bars])\n",
    "\n",
    "    sub_ax.axvline(cutoff_min, color='orange', linestyle='dotted');\n",
    "    sub_ax.axvline(cutoff_max, color='orange', linestyle='dotted');\n",
    "    sub_ax.set_xlim(s.min(), s.max());\n",
    "    sub_ax.set_title(s.name)\n",
    "    \n",
    "    trans = transforms.blended_transform_factory(\n",
    "        sub_ax.transData, sub_ax.transAxes)\n",
    "\n",
    "    # If outlier line is not outside the axis area, draw text\n",
    "    if sub_ax.transData.transform((cutoff_max, 0))[0] < sub_ax.transAxes.transform((1, 0))[0]:\n",
    "        sub_ax.text(cutoff_max, 0.5, r'$\\mu + 3\\sigma$',\n",
    "                    verticalalignment='center', \n",
    "    #                horizontalalignment='right',\n",
    "                    transform=trans,\n",
    "                    color='black', \n",
    "                    rotation=270\n",
    "                   )\n",
    "for j in range(i+1, ax.flatten().shape[0]):\n",
    "    ax.flatten()[j].axis('off')\n",
    "fig.savefig(os.path.join(dir_figures, '06_eda_outliers.pdf'), backend='pgf')"
   ]
  },
  {
   "cell_type": "markdown",
   "id": "0576b81b",
   "metadata": {},
   "source": [
    "## Summary of Dataset Feature Types"
   ]
  },
  {
   "cell_type": "code",
   "execution_count": 4,
   "id": "e6f179d5",
   "metadata": {},
   "outputs": [],
   "source": [
    "from metadata import Metadata"
   ]
  },
  {
   "cell_type": "code",
   "execution_count": 5,
   "id": "f867eb8b",
   "metadata": {},
   "outputs": [],
   "source": [
    "metadata = Metadata(os.path.join(dir_data_processed, 'metadata.csv'))\n",
    "metadata.df_lookup.set_index('attribute', drop=False, inplace=True)"
   ]
  },
  {
   "cell_type": "code",
   "execution_count": 37,
   "id": "19743ae8",
   "metadata": {},
   "outputs": [],
   "source": [
    "df_metadata_stats = metadata.df_lookup.loc[dataset_all_features]\\\n",
    "                    .groupby(['type', 'dataset'])\\\n",
    "                    .count().reset_index()\\\n",
    "                    .rename({'attribute': 'frequency', 'dataset': 'subset'}, axis=1)"
   ]
  },
  {
   "cell_type": "code",
   "execution_count": 44,
   "id": "ec51e260",
   "metadata": {},
   "outputs": [
    {
     "data": {
      "text/html": [
       "<div>\n",
       "<style scoped>\n",
       "    .dataframe tbody tr th:only-of-type {\n",
       "        vertical-align: middle;\n",
       "    }\n",
       "\n",
       "    .dataframe tbody tr th {\n",
       "        vertical-align: top;\n",
       "    }\n",
       "\n",
       "    .dataframe thead th {\n",
       "        text-align: right;\n",
       "    }\n",
       "</style>\n",
       "<table border=\"1\" class=\"dataframe\">\n",
       "  <thead>\n",
       "    <tr style=\"text-align: right;\">\n",
       "      <th></th>\n",
       "      <th>type</th>\n",
       "      <th>subset</th>\n",
       "      <th>frequency</th>\n",
       "    </tr>\n",
       "  </thead>\n",
       "  <tbody>\n",
       "    <tr>\n",
       "      <th>0</th>\n",
       "      <td>nominal</td>\n",
       "      <td>extra</td>\n",
       "      <td>39</td>\n",
       "    </tr>\n",
       "    <tr>\n",
       "      <th>1</th>\n",
       "      <td>nominal</td>\n",
       "      <td>metadata</td>\n",
       "      <td>64</td>\n",
       "    </tr>\n",
       "    <tr>\n",
       "      <th>2</th>\n",
       "      <td>numeric</td>\n",
       "      <td>extra</td>\n",
       "      <td>9</td>\n",
       "    </tr>\n",
       "    <tr>\n",
       "      <th>3</th>\n",
       "      <td>numeric</td>\n",
       "      <td>metadata</td>\n",
       "      <td>7</td>\n",
       "    </tr>\n",
       "    <tr>\n",
       "      <th>4</th>\n",
       "      <td>ordinal</td>\n",
       "      <td>extra</td>\n",
       "      <td>8</td>\n",
       "    </tr>\n",
       "    <tr>\n",
       "      <th>5</th>\n",
       "      <td>ordinal</td>\n",
       "      <td>metadata</td>\n",
       "      <td>238</td>\n",
       "    </tr>\n",
       "  </tbody>\n",
       "</table>\n",
       "</div>"
      ],
      "text/plain": [
       "      type    subset  frequency\n",
       "0  nominal     extra         39\n",
       "1  nominal  metadata         64\n",
       "2  numeric     extra          9\n",
       "3  numeric  metadata          7\n",
       "4  ordinal     extra          8\n",
       "5  ordinal  metadata        238"
      ]
     },
     "execution_count": 44,
     "metadata": {},
     "output_type": "execute_result"
    }
   ],
   "source": [
    "df_metadata_stats"
   ]
  },
  {
   "cell_type": "code",
   "execution_count": 39,
   "id": "e3453071",
   "metadata": {},
   "outputs": [
    {
     "name": "stdout",
     "output_type": "stream",
     "text": [
      "None\n"
     ]
    }
   ],
   "source": [
    "save_latex_table(\n",
    "    df_metadata_stats, \n",
    "    path=os.path.join(dir_tables, '03_eda_feature-types-stats.tex'),\n",
    "    caption=\"Dataset feature types\",\n",
    "    label=\"tab:dataset-feature-types\",\n",
    ")"
   ]
  },
  {
   "cell_type": "code",
   "execution_count": 81,
   "id": "2d15323a",
   "metadata": {},
   "outputs": [
    {
     "data": {
      "image/png": "[encoded data removed]",
      "text/plain": [
       "<Figure size 315.915x195.246 with 1 Axes>"
      ]
     },
     "metadata": {
      "needs_background": "light"
     },
     "output_type": "display_data"
    }
   ],
   "source": [
    "fig, ax = plt.subplots(figsize=set_report_fig_size(fraction=0.7))\n",
    "g = sns.barplot(\n",
    "    x='type', y='frequency', hue='subset', data=df_metadata_stats,\n",
    "    palette=\"Set1\",\n",
    "    ax=ax\n",
    ")\n",
    "g.set_ylim(top=df_metadata_stats['frequency'].max() + 20)\n",
    "g.set_xlabel('Feature Types')\n",
    "for container in g.containers:\n",
    "    g.bar_label(container)\n",
    "fig.savefig(os.path.join(dir_figures, '07_feature-types.pdf'), backend='pgf')"
   ]
  },
  {
   "cell_type": "markdown",
   "id": "616f4e22",
   "metadata": {},
   "source": [
    "## Putting all Preprocessing Steps Together"
   ]
  },
  {
   "cell_type": "markdown",
   "id": "94a77644",
   "metadata": {},
   "source": [
    "In the next notebook [02_data-processing-pipeline.ipynb](02_data-processing-pipeline.ipynb), we will package all the preprocessing steps from this notebook into Scikit-Learn Transformers."
   ]
  }
 ],
 "metadata": {
  "kernelspec": {
   "display_name": "Python 3 (ipykernel)",
   "language": "python",
   "name": "python3"
  },
  "language_info": {
   "codemirror_mode": {
    "name": "ipython",
    "version": 3
   },
   "file_extension": ".py",
   "mimetype": "text/x-python",
   "name": "python",
   "nbconvert_exporter": "python",
   "pygments_lexer": "ipython3",
   "version": "3.8.12"
  },
  "toc": {
   "base_numbering": 1,
   "nav_menu": {},
   "number_sections": true,
   "sideBar": true,
   "skip_h1_title": true,
   "title_cell": "Table of Contents",
   "title_sidebar": "Contents",
   "toc_cell": true,
   "toc_position": {
    "height": "calc(100% - 180px)",
    "left": "10px",
    "top": "150px",
    "width": "369.594px"
   },
   "toc_section_display": true,
   "toc_window_display": true
  }
 },
 "nbformat": 4,
 "nbformat_minor": 5
}
