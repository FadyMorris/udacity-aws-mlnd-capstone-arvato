{
 "cells": [
  {
   "cell_type": "markdown",
   "id": "ab5f7144",
   "metadata": {},
   "source": [
    "## Package Imports"
   ]
  },
  {
   "cell_type": "code",
   "execution_count": 16,
   "id": "0d344f63",
   "metadata": {},
   "outputs": [],
   "source": [
    "%load_ext autoreload\n",
    "%autoreload 2\n",
    "%matplotlib inline\n",
    "\n",
    "import sys\n",
    "# Project python scripts directory\n",
    "sys.path.insert(1, '../src')\n",
    "\n",
    "import tarfile\n",
    "import os\n",
    "import json\n",
    "import re\n",
    "import time\n",
    "\n",
    "from functools import partial\n",
    "from pdb import set_trace\n",
    "\n",
    "import numpy as np\n",
    "import pandas as pd\n",
    "\n",
    "import matplotlib as mpl\n",
    "mpl.use('pgf')\n",
    "import matplotlib.pyplot as plt\n",
    "import matplotlib.transforms as transforms\n",
    "import seaborn as sns\n",
    "\n",
    "\n",
    "from sklearn.base import BaseEstimator,TransformerMixin\n",
    "from sklearn.compose import ColumnTransformer\n",
    "from sklearn.pipeline import Pipeline\n",
    "from sklearn.impute import SimpleImputer\n",
    "from sklearn.preprocessing import (OneHotEncoder, StandardScaler)\n",
    "from sklearn.linear_model import LogisticRegression\n",
    "from sklearn import set_config\n",
    "\n",
    "\n",
    "from sklearn.model_selection import train_test_split\n",
    "from sklearn.metrics import roc_auc_score\n",
    "\n",
    "from pandas_profiling import ProfileReport"
   ]
  },
  {
   "cell_type": "markdown",
   "id": "064c88cb",
   "metadata": {},
   "source": [
    "## Global Variables"
   ]
  },
  {
   "cell_type": "code",
   "execution_count": null,
   "id": "bac8aa7b",
   "metadata": {},
   "outputs": [],
   "source": [
    "# Define project paths.\n",
    "dir_data_raw =        \"../input/data/raw\"\n",
    "dir_data_processed =  \"../input/data/processed\"\n",
    "dir_config =          \"../input/config\"\n",
    "dir_figures =         \"../output/figures\"\n",
    "dir_tables =          \"../output/tables\"\n",
    "dir_submit =          \"../output/submissions\"\n",
    "dir_src =             \"../src\""
   ]
  },
  {
   "cell_type": "markdown",
   "id": "c4cfa3d8",
   "metadata": {},
   "source": [
    "## Configurations"
   ]
  },
  {
   "cell_type": "code",
   "execution_count": null,
   "id": "93b974da",
   "metadata": {},
   "outputs": [],
   "source": [
    "sns.set()\n",
    "\n",
    "# Set matplotlib style to use LaTeX default fonts and engine.\n",
    "plt.rcParams.update({\n",
    "    \"font.family\": \"serif\",  # use serif/main font for text elements\n",
    "    \"text.usetex\": True,     # use inline math for ticks\n",
    "    \"font.serif\": [],\n",
    "    \"font.size\": 10,\n",
    "    \"axes.labelsize\": 10,\n",
    "    \"xtick.labelsize\": 10,\n",
    "    \"ytick.labelsize\": 10,\n",
    "    \"pgf.rcfonts\": False,     # don't setup fonts from rc parameters\n",
    "    \"figure.constrained_layout.use\": True\n",
    "    })\n",
    "\n",
    "# Sklean Display pipelines as diagrams\n",
    "set_config(display='diagram')"
   ]
  },
  {
   "cell_type": "markdown",
   "id": "97412794",
   "metadata": {},
   "source": [
    "## Helper Functions"
   ]
  },
  {
   "cell_type": "code",
   "execution_count": 15,
   "id": "941bcc71",
   "metadata": {},
   "outputs": [
    {
     "name": "stdout",
     "output_type": "stream",
     "text": [
      "Overwriting ../src/helper_functions.py\n"
     ]
    }
   ],
   "source": [
    "%%writefile ../src/helper_functions.py\n",
    "\n",
    "import os\n",
    "import pandas as pd\n",
    "from functools import partial\n",
    "\n",
    "# Text size in report (points)\n",
    "latex_text_size = 453\n",
    "\n",
    "def save_latex_table(df, path=None, precision=2, formatter={}, **kwargs):\n",
    "    print(\n",
    "        df.style\\\n",
    "        .hide(axis='index')\\\n",
    "        .format(precision=precision, thousands=\",\", formatter=formatter)\\\n",
    "        .to_latex(\n",
    "            path,\n",
    "            position='H', \n",
    "            position_float='centering', \n",
    "            hrules=True,\n",
    "            **kwargs\n",
    "        )\n",
    "    )\n",
    "\n",
    "\n",
    "\n",
    "def display_full_frame(df):\n",
    "    with pd.option_context('display.max_rows', None, 'display.max_columns', None):  # more options can be specified also\n",
    "        display(df)\n",
    "\n",
    "\n",
    "def set_fig_size(width_pt, fraction=1, subplots=(1, 1)):\n",
    "    \"\"\"Set figure dimensions to sit nicely in our document.\n",
    "\n",
    "    Parameters\n",
    "    ----------\n",
    "    width_pt: float\n",
    "            Document width in points\n",
    "    fraction: float, optional\n",
    "            Fraction of the width which you wish the figure to occupy\n",
    "    subplots: array-like, optional\n",
    "            The number of rows and columns of subplots.\n",
    "    Returns\n",
    "    -------\n",
    "    fig_dim: tuple\n",
    "            Dimensions of figure in inches\n",
    "    \"\"\"\n",
    "    # Width of figure (in pts)\n",
    "    fig_width_pt = width_pt * fraction\n",
    "    # Convert from pt to inches\n",
    "    inches_per_pt = 1 / 72.27\n",
    "\n",
    "    # Golden ratio to set aesthetic figure height\n",
    "    golden_ratio = (5**.5 - 1) / 2\n",
    "\n",
    "    # Figure width in inches\n",
    "    fig_width_in = fig_width_pt * inches_per_pt\n",
    "    # Figure height in inches\n",
    "    fig_height_in = fig_width_in * golden_ratio * (subplots[0] / subplots[1])\n",
    "\n",
    "    return (fig_width_in, fig_height_in)\n",
    "\n",
    "set_report_fig_size = partial(set_fig_size, width_pt=latex_text_size)"
   ]
  },
  {
   "cell_type": "code",
   "execution_count": null,
   "id": "65296e76",
   "metadata": {},
   "outputs": [],
   "source": []
  }
 ],
 "metadata": {
  "kernelspec": {
   "display_name": "Python 3 (ipykernel)",
   "language": "python",
   "name": "python3"
  },
  "language_info": {
   "codemirror_mode": {
    "name": "ipython",
    "version": 3
   },
   "file_extension": ".py",
   "mimetype": "text/x-python",
   "name": "python",
   "nbconvert_exporter": "python",
   "pygments_lexer": "ipython3",
   "version": "3.8.12"
  },
  "toc": {
   "base_numbering": 1,
   "nav_menu": {},
   "number_sections": true,
   "sideBar": true,
   "skip_h1_title": false,
   "title_cell": "Table of Contents",
   "title_sidebar": "Contents",
   "toc_cell": false,
   "toc_position": {},
   "toc_section_display": true,
   "toc_window_display": false
  }
 },
 "nbformat": 4,
 "nbformat_minor": 5
}
